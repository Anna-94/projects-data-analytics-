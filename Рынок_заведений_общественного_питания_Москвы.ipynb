{
  "nbformat": 4,
  "nbformat_minor": 0,
  "metadata": {
    "colab": {
      "name": "Рынок заведений общественного питания Москвы",
      "provenance": [],
      "collapsed_sections": [
        "UY7eRZaM8YGG"
      ],
      "mount_file_id": "18w--5Rd3BWdcJ4hG47RTO854dMvF-8Lf",
      "authorship_tag": "ABX9TyMasKZJeA7vJT/pJnxlxKMM",
      "include_colab_link": true
    },
    "kernelspec": {
      "name": "python3",
      "display_name": "Python 3"
    }
  },
  "cells": [
    {
      "cell_type": "markdown",
      "metadata": {
        "id": "view-in-github",
        "colab_type": "text"
      },
      "source": [
        "<a href=\"https://colab.research.google.com/github/Anna-94/projects-data-analytics-/blob/projects/%D0%A0%D1%8B%D0%BD%D0%BE%D0%BA_%D0%B7%D0%B0%D0%B2%D0%B5%D0%B4%D0%B5%D0%BD%D0%B8%D0%B9_%D0%BE%D0%B1%D1%89%D0%B5%D1%81%D1%82%D0%B2%D0%B5%D0%BD%D0%BD%D0%BE%D0%B3%D0%BE_%D0%BF%D0%B8%D1%82%D0%B0%D0%BD%D0%B8%D1%8F_%D0%9C%D0%BE%D1%81%D0%BA%D0%B2%D1%8B.ipynb\" target=\"_parent\"><img src=\"https://colab.research.google.com/assets/colab-badge.svg\" alt=\"Open In Colab\"/></a>"
      ]
    },
    {
      "cell_type": "markdown",
      "metadata": {
        "id": "Yxg92C6j49sC"
      },
      "source": [
        "# Рынок заведений общественного питания Москвы\r\n",
        "\r\n",
        "### Описание проекта\r\n",
        "Мы решили открыть небольшое кафе в Москве. Оно оригинальное — гостей должны обслуживать роботы. Проект многообещающий, но дорогой. Вместе с партнёрами мы решились обратиться к инвесторам. Их интересует текущее положение дел на рынке — возможно ли снискать популярность на долгое время, когда все зеваки насмотрятся на роботов-официантов?\r\n",
        "\r\n",
        "\r\n",
        "### Инструкция по выполнению проекта\r\n",
        "### [Шаг №1. Загрузите данные и подготовьте их к анализу](#step1)\r\n",
        "Загрузим данные о заведениях общественного питания Москвы. Убедимся, что тип данных в каждой колонке — правильный, а также отсутствуют пропущенные значения и дубликаты. При необходимости обработаем их.\r\n",
        "\r\n",
        "\r\n",
        "### [Шаг №2. Анализ данных](#step2)\r\n",
        "- [Исследуем соотношение видов объектов общественного питания по количеству. Построим график.](#item_1)\r\n",
        "- [Исследуем соотношение сетевых и несетевых заведений по количеству. Построим график.](#item_2)\r\n",
        "- [Для какого вида объекта общественного питания характерно сетевое распространение?](#item_3)\r\n",
        "- [Что характерно для сетевых заведений: много заведений с небольшим числом посадочных мест в каждом или мало заведений с большим количеством посадочных мест?](#item_4)\r\n",
        "- [Для каждого вида объекта общественного питания опишите среднее количество посадочных мест. Какой вид предоставляет в среднем самое большое количество посадочных мест? Построим графики.](#item_5)\r\n",
        "- [Выделим в отдельный столбец информацию об улице из столбца address .](#item_6)\r\n",
        "- [Построим график топ-10 улиц по количеству объектов общественного питания. Воспользуемся внешней информацией и ответим на вопрос — в каких районах Москвы находятся эти улицы?](#item_7)\r\n",
        "- [Найдем число улиц с одним объектом общественного питания. Воспользуемся внешней информацией и ответим на вопрос — в каких районах Москвы находятся эти улицы?](#item_8)\r\n",
        "- [Посмотрим на распределение количества посадочных мест для улиц с большим количеством объектов общественного питания. Какие закономерности можно выявить?](#item_9)\r\n",
        "\r\n",
        "[Сделайем общий вывод и дадим рекомендации о виде заведения, количестве посадочных мест, а также районе расположения. Прокомментируем возможность развития сети.](#step_10)\r\n",
        "\r\n",
        "\r\n",
        "### [Шаг №3. Подготовка презентации](#step3)\r\n",
        "Подготовим презентацию исследования для инвесторов. Ссылка на презентацию в формате pdf приложена в конце проекта.\r\n",
        "\r\n",
        "### Описание данных\r\n",
        "#### Таблица rest_data:\r\n",
        "\r\n",
        "- id — идентификатор объекта;\r\n",
        "- object_name — название объекта общественного питания;\r\n",
        "- chain — сетевой ресторан;\r\n",
        "- object_type — тип объекта общественного питания;\r\n",
        "- address — адрес;\r\n",
        "- number — количество посадочных мест."
      ]
    },
    {
      "cell_type": "code",
      "metadata": {
        "id": "wZlymcC15ICr"
      },
      "source": [
        "import pandas as pd\r\n",
        "import matplotlib.pyplot as plt\r\n",
        "import seaborn as sns\r\n",
        "from io import BytesIO\r\n",
        "import requests\r\n",
        "import numpy as np\r\n",
        "# загрузили необходимые библиотеки\r\n",
        "plt.style.use('ggplot')\r\n",
        "sns.set(font_scale=1.3)"
      ],
      "execution_count": null,
      "outputs": []
    },
    {
      "cell_type": "markdown",
      "metadata": {
        "id": "ejJm_MD05ZDq"
      },
      "source": [
        "### Шаг №1. Загрузите данные и подготовьте их к анализу\r\n",
        "<a id=\"step1\"></a>"
      ]
    },
    {
      "cell_type": "markdown",
      "metadata": {
        "id": "Ouc3fA645h3Y"
      },
      "source": [
        "Загрузим данные, посмотрим о них информацию и проведем предобработку."
      ]
    },
    {
      "cell_type": "code",
      "metadata": {
        "id": "l5LNMtpwOTY0"
      },
      "source": [
        "data = pd.read_csv('/content/drive/MyDrive/rest_data.csv')"
      ],
      "execution_count": null,
      "outputs": []
    },
    {
      "cell_type": "code",
      "metadata": {
        "colab": {
          "base_uri": "https://localhost:8080/",
          "height": 204
        },
        "id": "hSM0SXkq5cBP",
        "outputId": "19d290e3-6c6a-4df9-95ce-16629189684e"
      },
      "source": [
        "data.head()"
      ],
      "execution_count": null,
      "outputs": [
        {
          "output_type": "execute_result",
          "data": {
            "text/html": [
              "<div>\n",
              "<style scoped>\n",
              "    .dataframe tbody tr th:only-of-type {\n",
              "        vertical-align: middle;\n",
              "    }\n",
              "\n",
              "    .dataframe tbody tr th {\n",
              "        vertical-align: top;\n",
              "    }\n",
              "\n",
              "    .dataframe thead th {\n",
              "        text-align: right;\n",
              "    }\n",
              "</style>\n",
              "<table border=\"1\" class=\"dataframe\">\n",
              "  <thead>\n",
              "    <tr style=\"text-align: right;\">\n",
              "      <th></th>\n",
              "      <th>id</th>\n",
              "      <th>object_name</th>\n",
              "      <th>chain</th>\n",
              "      <th>object_type</th>\n",
              "      <th>address</th>\n",
              "      <th>number</th>\n",
              "    </tr>\n",
              "  </thead>\n",
              "  <tbody>\n",
              "    <tr>\n",
              "      <th>0</th>\n",
              "      <td>151635</td>\n",
              "      <td>СМЕТАНА</td>\n",
              "      <td>нет</td>\n",
              "      <td>кафе</td>\n",
              "      <td>город Москва, улица Егора Абакумова, дом 9</td>\n",
              "      <td>48</td>\n",
              "    </tr>\n",
              "    <tr>\n",
              "      <th>1</th>\n",
              "      <td>77874</td>\n",
              "      <td>Родник</td>\n",
              "      <td>нет</td>\n",
              "      <td>кафе</td>\n",
              "      <td>город Москва, улица Талалихина, дом 2/1, корпус 1</td>\n",
              "      <td>35</td>\n",
              "    </tr>\n",
              "    <tr>\n",
              "      <th>2</th>\n",
              "      <td>24309</td>\n",
              "      <td>Кафе «Академия»</td>\n",
              "      <td>нет</td>\n",
              "      <td>кафе</td>\n",
              "      <td>город Москва, Абельмановская улица, дом 6</td>\n",
              "      <td>95</td>\n",
              "    </tr>\n",
              "    <tr>\n",
              "      <th>3</th>\n",
              "      <td>21894</td>\n",
              "      <td>ПИЦЦЕТОРИЯ</td>\n",
              "      <td>да</td>\n",
              "      <td>кафе</td>\n",
              "      <td>город Москва, Абрамцевская улица, дом 1</td>\n",
              "      <td>40</td>\n",
              "    </tr>\n",
              "    <tr>\n",
              "      <th>4</th>\n",
              "      <td>119365</td>\n",
              "      <td>Кафе «Вишневая метель»</td>\n",
              "      <td>нет</td>\n",
              "      <td>кафе</td>\n",
              "      <td>город Москва, Абрамцевская улица, дом 9, корпус 1</td>\n",
              "      <td>50</td>\n",
              "    </tr>\n",
              "  </tbody>\n",
              "</table>\n",
              "</div>"
            ],
            "text/plain": [
              "       id  ... number\n",
              "0  151635  ...     48\n",
              "1   77874  ...     35\n",
              "2   24309  ...     95\n",
              "3   21894  ...     40\n",
              "4  119365  ...     50\n",
              "\n",
              "[5 rows x 6 columns]"
            ]
          },
          "metadata": {
            "tags": []
          },
          "execution_count": 6
        }
      ]
    },
    {
      "cell_type": "markdown",
      "metadata": {
        "id": "k45duqDg54l5"
      },
      "source": [
        "Итак, нам даны данные о 15 тысячах объектах общественного питания в Москве. По каждому объекту дано название, сетевой/несетевой, тип заведения, адрес и количество посадочных мест."
      ]
    },
    {
      "cell_type": "code",
      "metadata": {
        "colab": {
          "base_uri": "https://localhost:8080/"
        },
        "id": "nC5nkwdd55k5",
        "outputId": "1e7681e1-97ba-4535-c37c-1115f70f1ec3"
      },
      "source": [
        "data.info()"
      ],
      "execution_count": null,
      "outputs": [
        {
          "output_type": "stream",
          "text": [
            "<class 'pandas.core.frame.DataFrame'>\n",
            "RangeIndex: 15366 entries, 0 to 15365\n",
            "Data columns (total 6 columns):\n",
            " #   Column       Non-Null Count  Dtype \n",
            "---  ------       --------------  ----- \n",
            " 0   id           15366 non-null  int64 \n",
            " 1   object_name  15366 non-null  object\n",
            " 2   chain        15366 non-null  object\n",
            " 3   object_type  15366 non-null  object\n",
            " 4   address      15366 non-null  object\n",
            " 5   number       15366 non-null  int64 \n",
            "dtypes: int64(2), object(4)\n",
            "memory usage: 720.4+ KB\n"
          ],
          "name": "stdout"
        }
      ]
    },
    {
      "cell_type": "markdown",
      "metadata": {
        "id": "g-rN4pXw6C-v"
      },
      "source": [
        "Проверим наличие пропусков и дубликатов."
      ]
    },
    {
      "cell_type": "code",
      "metadata": {
        "colab": {
          "base_uri": "https://localhost:8080/"
        },
        "id": "WHp2wKr_6BQi",
        "outputId": "9e8dc54d-ef28-4dad-aafc-ede12df4c064"
      },
      "source": [
        "data.isnull().sum()"
      ],
      "execution_count": null,
      "outputs": [
        {
          "output_type": "execute_result",
          "data": {
            "text/plain": [
              "id             0\n",
              "object_name    0\n",
              "chain          0\n",
              "object_type    0\n",
              "address        0\n",
              "number         0\n",
              "dtype: int64"
            ]
          },
          "metadata": {
            "tags": []
          },
          "execution_count": 8
        }
      ]
    },
    {
      "cell_type": "code",
      "metadata": {
        "colab": {
          "base_uri": "https://localhost:8080/"
        },
        "id": "bYLSJr1Y6Jtf",
        "outputId": "348a9f1c-d862-41d4-9f78-5038d22b071c"
      },
      "source": [
        "data.duplicated().sum()"
      ],
      "execution_count": null,
      "outputs": [
        {
          "output_type": "execute_result",
          "data": {
            "text/plain": [
              "0"
            ]
          },
          "metadata": {
            "tags": []
          },
          "execution_count": 9
        }
      ]
    },
    {
      "cell_type": "markdown",
      "metadata": {
        "id": "O_dqqKvE6P-_"
      },
      "source": [
        "Пропуски и полные дубликаты отсутсвуют. В таблице заметили, что названия объектов питания написаны разным регистром. Приведем названия объектов и адреса к нижнему регистру."
      ]
    },
    {
      "cell_type": "code",
      "metadata": {
        "id": "i9l1Qiu26Q47"
      },
      "source": [
        "data['object_name'] = data['object_name'].str.lower()\r\n",
        "data['address'] = data['address'].str.lower()"
      ],
      "execution_count": null,
      "outputs": []
    },
    {
      "cell_type": "code",
      "metadata": {
        "colab": {
          "base_uri": "https://localhost:8080/"
        },
        "id": "5pEakcWB6X-K",
        "outputId": "2a2f9e8d-4c18-4a18-cd92-aa2e2981b4c3"
      },
      "source": [
        "data['object_type'].value_counts()"
      ],
      "execution_count": null,
      "outputs": [
        {
          "output_type": "execute_result",
          "data": {
            "text/plain": [
              "кафе                                 6099\n",
              "столовая                             2587\n",
              "ресторан                             2285\n",
              "предприятие быстрого обслуживания    1923\n",
              "бар                                   856\n",
              "буфет                                 585\n",
              "кафетерий                             398\n",
              "закусочная                            360\n",
              "магазин (отдел кулинарии)             273\n",
              "Name: object_type, dtype: int64"
            ]
          },
          "metadata": {
            "tags": []
          },
          "execution_count": 12
        }
      ]
    },
    {
      "cell_type": "markdown",
      "metadata": {
        "id": "51k5CKcw6cHv"
      },
      "source": [
        "С названиями типов объектов все ок. Единственное, что сделаем, поменяем длинные названия на более удобные и короткие."
      ]
    },
    {
      "cell_type": "code",
      "metadata": {
        "id": "134-qD1K6ec4"
      },
      "source": [
        "data['object_type'] = data['object_type'].str.replace('предприятие быстрого обслуживания', 'фаст-фуд')\r\n",
        "data['object_type'] = data['object_type'].str.replace('магазин \\(отдел кулинарии\\)', 'кулинария')"
      ],
      "execution_count": null,
      "outputs": []
    },
    {
      "cell_type": "code",
      "metadata": {
        "colab": {
          "base_uri": "https://localhost:8080/"
        },
        "id": "sH4GvXaN6i4w",
        "outputId": "b65a1918-1707-483c-c27f-1bb380c80d34"
      },
      "source": [
        "data.duplicated().sum() "
      ],
      "execution_count": null,
      "outputs": [
        {
          "output_type": "execute_result",
          "data": {
            "text/plain": [
              "0"
            ]
          },
          "metadata": {
            "tags": []
          },
          "execution_count": 14
        }
      ]
    },
    {
      "cell_type": "markdown",
      "metadata": {
        "id": "s33RtHdU6od8"
      },
      "source": [
        "Впоследствие для анализа нам нужно будет выделять из адреса название улицы. Видим, что большинство адресов начинаются с \"город москва\". Посмотрим все ли адреса написаны таким образом."
      ]
    },
    {
      "cell_type": "code",
      "metadata": {
        "colab": {
          "base_uri": "https://localhost:8080/"
        },
        "id": "QXHqilT96k5c",
        "outputId": "2ca902f6-366d-40eb-f84f-c7235210756c"
      },
      "source": [
        "data['address'].apply(lambda x: x.split(',')[0]).value_counts()"
      ],
      "execution_count": null,
      "outputs": [
        {
          "output_type": "execute_result",
          "data": {
            "text/plain": [
              "город москва                     15295\n",
              "улица ленинская слобода              4\n",
              "николоямская улица                   4\n",
              "улица льва толстого                  3\n",
              "город московский                     3\n",
              "солянский тупик                      3\n",
              "2-я брестская улица                  2\n",
              "бауманская улица                     2\n",
              "таганская площадь                    2\n",
              "партизанская улица                   2\n",
              "ленинградский проспект               2\n",
              "калашный переулок                    1\n",
              "шарикоподшипниковская улица          1\n",
              "улица земляной вал                   1\n",
              "чертановская улица                   1\n",
              "таганская улица                      1\n",
              "суворовская площадь                  1\n",
              "софийская набережная                 1\n",
              "поселение \"мосрентген\"               1\n",
              "1-я тверская-ямская улица            1\n",
              "полевая улица                        1\n",
              "коровинское шоссе                    1\n",
              "5-й котельнический переулок          1\n",
              "краснобогатырская улица              1\n",
              "дербеневская улица                   1\n",
              "город троицк                         1\n",
              "школьная улица                       1\n",
              "поречная улица                       1\n",
              "новоданиловская набережная           1\n",
              "погодинская улица                    1\n",
              "улица сергея макеева                 1\n",
              "вспольный переулок                   1\n",
              "большая серпуховская улица           1\n",
              "нижний таганский тупик               1\n",
              "ленинский проспект                   1\n",
              "поселение михайлово-ярцевское        1\n",
              "улица знаменка                       1\n",
              "поселение сосенское                  1\n",
              "вознесенский переулок                1\n",
              "проектируемый проезд n 5231          1\n",
              "1-й нагатинский проезд               1\n",
              "митинская улица                      1\n",
              "киевская улица                       1\n",
              "медынская улица                      1\n",
              "поселение марушкинское               1\n",
              "варшавское шоссе                     1\n",
              "алтуфьевское шоссе                   1\n",
              "улица миклухо-маклая                 1\n",
              "улица каманина                       1\n",
              "проезд добролюбова                   1\n",
              "садовая-сухаревская улица            1\n",
              "улица обручева                       1\n",
              "профсоюзная улица                    1\n",
              "большая бронная улица                1\n",
              "тушинская улица                      1\n",
              "Name: address, dtype: int64"
            ]
          },
          "metadata": {
            "tags": []
          },
          "execution_count": 15
        }
      ]
    },
    {
      "cell_type": "code",
      "metadata": {
        "colab": {
          "base_uri": "https://localhost:8080/"
        },
        "id": "4X-mGDda6x7s",
        "outputId": "0fa79425-16e6-4c43-b6ef-3c128fa5f841"
      },
      "source": [
        "data['address'].apply(lambda x: x.split(',')[1]).value_counts()"
      ],
      "execution_count": null,
      "outputs": [
        {
          "output_type": "execute_result",
          "data": {
            "text/plain": [
              " город зеленоград              232\n",
              " проспект мира                 204\n",
              " профсоюзная улица             182\n",
              " ленинградский проспект        171\n",
              " пресненская набережная        167\n",
              "                              ... \n",
              " триумфальная площадь            1\n",
              " плетешковский переулок          1\n",
              " зюзинская улица                 1\n",
              " улица захарьинские дворики      1\n",
              " улица константинова             1\n",
              "Name: address, Length: 1900, dtype: int64"
            ]
          },
          "metadata": {
            "tags": []
          },
          "execution_count": 16
        }
      ]
    },
    {
      "cell_type": "markdown",
      "metadata": {
        "id": "en-iS-wV69KH"
      },
      "source": [
        "Да, как и ожидали в большинстве случаев на первом месте стоит \"город москва\". Среди адресов видим также и населенные пункты Новой Москвы, типа: Троицк, Московский, Зеленоград. Причем Зеленоград стоит после города москвы. Удалим строки, где в названиях улицы присутствуют слова поселение, поселок, троицк, зеленоград, щербинка. Так как в нашем исследовании мы рассматриваем данные о Москве, а также в рамках проекта будем выделять из адреса улицы, в связи с чем может произойти путаница, так как названия улиц в населенных пунктах могут совпадать."
      ]
    },
    {
      "cell_type": "code",
      "metadata": {
        "id": "sVZda3rc6-L2"
      },
      "source": [
        "rest_data = pd.DataFrame()"
      ],
      "execution_count": null,
      "outputs": []
    },
    {
      "cell_type": "code",
      "metadata": {
        "id": "HFV3bYbO7Dgd"
      },
      "source": [
        "rest_data = data.loc[~data['address'].str.contains('поселение|троицк|щербинка|зеленоград|московский')]"
      ],
      "execution_count": null,
      "outputs": []
    },
    {
      "cell_type": "code",
      "metadata": {
        "colab": {
          "base_uri": "https://localhost:8080/"
        },
        "id": "oxkdUM257GrX",
        "outputId": "d5866a04-7790-44c7-d80f-c2987fc99dab"
      },
      "source": [
        "rest_data['address_new'] = rest_data['address'].str.replace('город москва, ', '')"
      ],
      "execution_count": null,
      "outputs": [
        {
          "output_type": "stream",
          "text": [
            "/usr/local/lib/python3.6/dist-packages/ipykernel_launcher.py:1: SettingWithCopyWarning: \n",
            "A value is trying to be set on a copy of a slice from a DataFrame.\n",
            "Try using .loc[row_indexer,col_indexer] = value instead\n",
            "\n",
            "See the caveats in the documentation: https://pandas.pydata.org/pandas-docs/stable/user_guide/indexing.html#returning-a-view-versus-a-copy\n",
            "  \"\"\"Entry point for launching an IPython kernel.\n"
          ],
          "name": "stderr"
        }
      ]
    },
    {
      "cell_type": "markdown",
      "metadata": {
        "id": "-O5ZST887NPL"
      },
      "source": [
        "На примере макдоналдса посмотрим на информацию о данном заведении. Попробуем вручную обработать разные варианты написания названия. Конечно, для каждого заведения это будет сложно, но для некоторых крупных сетевых заведений сделаем."
      ]
    },
    {
      "cell_type": "code",
      "metadata": {
        "colab": {
          "base_uri": "https://localhost:8080/"
        },
        "id": "jKiMTToa7Omj",
        "outputId": "adbf12b3-9780-43d1-85b6-34f6507aa37f"
      },
      "source": [
        "rest_data[rest_data['object_name'].str.contains('mcdonalds|макдоналдс')]['object_name'].value_counts()"
      ],
      "execution_count": null,
      "outputs": [
        {
          "output_type": "execute_result",
          "data": {
            "text/plain": [
              "макдоналдс                                        142\n",
              "ресторан «макдоналдс»                               7\n",
              "предприятие быстрого обслуживания «макдоналдс»      6\n",
              "кафе «макдоналдс»                                   5\n",
              "ресторан«макдоналдс»                                1\n",
              "mcdonalds                                           1\n",
              "кафе макдоналдс                                     1\n",
              "москва - макдоналдс                                 1\n",
              "Name: object_name, dtype: int64"
            ]
          },
          "metadata": {
            "tags": []
          },
          "execution_count": 20
        }
      ]
    },
    {
      "cell_type": "code",
      "metadata": {
        "colab": {
          "base_uri": "https://localhost:8080/"
        },
        "id": "PopjZBZk7Vwe",
        "outputId": "62759df3-daed-462b-dae6-c17581740889"
      },
      "source": [
        "rest_data.loc[rest_data['object_name'].str.contains('mcdonalds|макдоналдс'), 'object_name'] = 'макдоналдс'"
      ],
      "execution_count": null,
      "outputs": [
        {
          "output_type": "stream",
          "text": [
            "/usr/local/lib/python3.6/dist-packages/pandas/core/indexing.py:1763: SettingWithCopyWarning: \n",
            "A value is trying to be set on a copy of a slice from a DataFrame.\n",
            "Try using .loc[row_indexer,col_indexer] = value instead\n",
            "\n",
            "See the caveats in the documentation: https://pandas.pydata.org/pandas-docs/stable/user_guide/indexing.html#returning-a-view-versus-a-copy\n",
            "  isetter(loc, value)\n"
          ],
          "name": "stderr"
        }
      ]
    },
    {
      "cell_type": "code",
      "metadata": {
        "colab": {
          "base_uri": "https://localhost:8080/"
        },
        "id": "XxRYSUrG7XkT",
        "outputId": "092a9557-1cf1-45f3-d514-c88c78d02f6b"
      },
      "source": [
        "rest_data[rest_data['object_name'].str.contains('mcdonalds|макдоналдс')]['object_name'].value_counts() #проверили"
      ],
      "execution_count": null,
      "outputs": [
        {
          "output_type": "execute_result",
          "data": {
            "text/plain": [
              "макдоналдс    164\n",
              "Name: object_name, dtype: int64"
            ]
          },
          "metadata": {
            "tags": []
          },
          "execution_count": 22
        }
      ]
    },
    {
      "cell_type": "code",
      "metadata": {
        "colab": {
          "base_uri": "https://localhost:8080/"
        },
        "id": "u_HF8_877dpA",
        "outputId": "44b32257-3880-4b13-be50-01b1255fbfb2"
      },
      "source": [
        "rest_data.loc[rest_data['object_name'].str.contains('kfc|кфс')]['object_name'].value_counts()"
      ],
      "execution_count": null,
      "outputs": [
        {
          "output_type": "execute_result",
          "data": {
            "text/plain": [
              "kfc                                        144\n",
              "кафе «kfc»                                  11\n",
              "ростикс kfc                                  8\n",
              "ресторан «kfc»                               3\n",
              "закусочная kfc                               2\n",
              "предприятие быстрого обслуживания «kfc»      2\n",
              "kfc.                                         1\n",
              "ресторан kfc                                 1\n",
              "кфс амрест                                   1\n",
              "ресторан кфс                                 1\n",
              "пбо «kfc покрышкина»                         1\n",
              "кафе kfc                                     1\n",
              "ресторан быстрого питания kfc                1\n",
              "закусочная «kfc»                             1\n",
              "пбо «kfc»                                    1\n",
              "kfc волгоградский                            1\n",
              "fridays kfc                                  1\n",
              "Name: object_name, dtype: int64"
            ]
          },
          "metadata": {
            "tags": []
          },
          "execution_count": 23
        }
      ]
    },
    {
      "cell_type": "code",
      "metadata": {
        "colab": {
          "base_uri": "https://localhost:8080/"
        },
        "id": "ymAIiM_C7h66",
        "outputId": "db1b9c87-af49-4118-f1ba-e3ac30a09907"
      },
      "source": [
        "rest_data.loc[rest_data['object_name'].str.contains('kfc|кфс'), 'object_name'] = 'kfc'"
      ],
      "execution_count": null,
      "outputs": [
        {
          "output_type": "stream",
          "text": [
            "/usr/local/lib/python3.6/dist-packages/pandas/core/indexing.py:1763: SettingWithCopyWarning: \n",
            "A value is trying to be set on a copy of a slice from a DataFrame.\n",
            "Try using .loc[row_indexer,col_indexer] = value instead\n",
            "\n",
            "See the caveats in the documentation: https://pandas.pydata.org/pandas-docs/stable/user_guide/indexing.html#returning-a-view-versus-a-copy\n",
            "  isetter(loc, value)\n"
          ],
          "name": "stderr"
        }
      ]
    },
    {
      "cell_type": "code",
      "metadata": {
        "colab": {
          "base_uri": "https://localhost:8080/"
        },
        "id": "ufOhl3UA7lGj",
        "outputId": "01536aca-fdc1-4c1e-e832-7347c06ad3ec"
      },
      "source": [
        "rest_data['object_name'].value_counts().head(10) # топ заведений по количеству"
      ],
      "execution_count": null,
      "outputs": [
        {
          "output_type": "execute_result",
          "data": {
            "text/plain": [
              "столовая           309\n",
              "кафе               255\n",
              "шаурма             244\n",
              "kfc                181\n",
              "макдоналдс         164\n",
              "шоколадница        155\n",
              "бургер кинг        127\n",
              "домино'с пицца      89\n",
              "теремок             87\n",
              "крошка картошка     82\n",
              "Name: object_name, dtype: int64"
            ]
          },
          "metadata": {
            "tags": []
          },
          "execution_count": 25
        }
      ]
    },
    {
      "cell_type": "code",
      "metadata": {
        "colab": {
          "base_uri": "https://localhost:8080/"
        },
        "id": "W4kstbcy7r5R",
        "outputId": "b30be8bf-dbcd-45a4-b9b1-74c2cd4ce24a"
      },
      "source": [
        "rest_data.loc[rest_data['object_name'].str.contains('шоколадница')]['object_name'].value_counts()"
      ],
      "execution_count": null,
      "outputs": [
        {
          "output_type": "execute_result",
          "data": {
            "text/plain": [
              "шоколадница              155\n",
              "кафе «шоколадница»        17\n",
              "кофейня «шоколадница»      6\n",
              "кофейня шоколадница        4\n",
              "шоколадница кофемания      1\n",
              "шоколадница кофе хаус      1\n",
              "шоколадница экспресс       1\n",
              "Name: object_name, dtype: int64"
            ]
          },
          "metadata": {
            "tags": []
          },
          "execution_count": 26
        }
      ]
    },
    {
      "cell_type": "code",
      "metadata": {
        "colab": {
          "base_uri": "https://localhost:8080/"
        },
        "id": "JcNy_9nY7vnB",
        "outputId": "acde4f13-48e5-4b69-de0a-4c96543bbfe0"
      },
      "source": [
        "rest_data.loc[rest_data['object_name'].str.contains('шоколадница'), 'object_name'] = 'шоколадница'"
      ],
      "execution_count": null,
      "outputs": [
        {
          "output_type": "stream",
          "text": [
            "/usr/local/lib/python3.6/dist-packages/pandas/core/indexing.py:1763: SettingWithCopyWarning: \n",
            "A value is trying to be set on a copy of a slice from a DataFrame.\n",
            "Try using .loc[row_indexer,col_indexer] = value instead\n",
            "\n",
            "See the caveats in the documentation: https://pandas.pydata.org/pandas-docs/stable/user_guide/indexing.html#returning-a-view-versus-a-copy\n",
            "  isetter(loc, value)\n"
          ],
          "name": "stderr"
        }
      ]
    },
    {
      "cell_type": "code",
      "metadata": {
        "colab": {
          "base_uri": "https://localhost:8080/"
        },
        "id": "KoLQDgFC7y7H",
        "outputId": "cf5bbab6-3439-4b79-ee51-cf42177cb396"
      },
      "source": [
        "rest_data.loc[rest_data['object_name'].str.contains('бургер кинг|burger king')]['object_name'].value_counts()"
      ],
      "execution_count": null,
      "outputs": [
        {
          "output_type": "execute_result",
          "data": {
            "text/plain": [
              "бургер кинг                                        127\n",
              "бургер кинг burger king                              6\n",
              "предприятие быстрого обслуживания «бургер кинг»      5\n",
              "кафе «бургер кинг»                                   3\n",
              "кафе бургер кинг                                     3\n",
              "ресторан «бургер кинг»                               3\n",
              "закусочная «бургер кинг»                             1\n",
              "кафе-закусочная «бургер кинг»                        1\n",
              "Name: object_name, dtype: int64"
            ]
          },
          "metadata": {
            "tags": []
          },
          "execution_count": 28
        }
      ]
    },
    {
      "cell_type": "code",
      "metadata": {
        "colab": {
          "base_uri": "https://localhost:8080/"
        },
        "id": "cnXgMyCw729G",
        "outputId": "59698d84-656e-4c11-9372-cbf59a489e81"
      },
      "source": [
        "rest_data.loc[rest_data['object_name'].str.contains('бургер кинг|burger king'), 'object_name'] = 'бургер кинг'"
      ],
      "execution_count": null,
      "outputs": [
        {
          "output_type": "stream",
          "text": [
            "/usr/local/lib/python3.6/dist-packages/pandas/core/indexing.py:1763: SettingWithCopyWarning: \n",
            "A value is trying to be set on a copy of a slice from a DataFrame.\n",
            "Try using .loc[row_indexer,col_indexer] = value instead\n",
            "\n",
            "See the caveats in the documentation: https://pandas.pydata.org/pandas-docs/stable/user_guide/indexing.html#returning-a-view-versus-a-copy\n",
            "  isetter(loc, value)\n"
          ],
          "name": "stderr"
        }
      ]
    },
    {
      "cell_type": "code",
      "metadata": {
        "colab": {
          "base_uri": "https://localhost:8080/"
        },
        "id": "3_ggd5PT76Dc",
        "outputId": "288fa942-f662-4cdd-8775-f560fbacafae"
      },
      "source": [
        "rest_data.loc[rest_data['object_name'].str.contains(\"доминос|домино'с|dominos\")]['object_name'].value_counts()"
      ],
      "execution_count": null,
      "outputs": [
        {
          "output_type": "execute_result",
          "data": {
            "text/plain": [
              "домино'с пицца                                        89\n",
              "dominos pizza                                          7\n",
              "пиццерия «домино'с пицца»                              5\n",
              "ресторан доминос                                       1\n",
              "домино'с пицца domino,s pizza                          1\n",
              "кафе «домино'с пицца»                                  1\n",
              "предприятие быстрого обслуживания «домино'с пицца»     1\n",
              "ресторан «домино'с пицца»                              1\n",
              "Name: object_name, dtype: int64"
            ]
          },
          "metadata": {
            "tags": []
          },
          "execution_count": 30
        }
      ]
    },
    {
      "cell_type": "code",
      "metadata": {
        "colab": {
          "base_uri": "https://localhost:8080/"
        },
        "id": "a1D77fly79kL",
        "outputId": "90932853-c4ee-463d-ce00-6121fed33a7a"
      },
      "source": [
        "rest_data.loc[rest_data['object_name'].str.contains(\"доминос|домино'с|dominos\"), 'object_name'] = \"домино'с пицца\""
      ],
      "execution_count": null,
      "outputs": [
        {
          "output_type": "stream",
          "text": [
            "/usr/local/lib/python3.6/dist-packages/pandas/core/indexing.py:1763: SettingWithCopyWarning: \n",
            "A value is trying to be set on a copy of a slice from a DataFrame.\n",
            "Try using .loc[row_indexer,col_indexer] = value instead\n",
            "\n",
            "See the caveats in the documentation: https://pandas.pydata.org/pandas-docs/stable/user_guide/indexing.html#returning-a-view-versus-a-copy\n",
            "  isetter(loc, value)\n"
          ],
          "name": "stderr"
        }
      ]
    },
    {
      "cell_type": "markdown",
      "metadata": {
        "id": "KtKY4TaN8Az9"
      },
      "source": [
        "Конечно, заменять названия таким образом не лучший вариант. Так как вручную обрабатывать занимает достаточно много времени. Также как вариант, можно было бы удалить из названий такие слова, как: ресторан, кафе, закусочная, предприятие быстрого обслуживания и т.д. Возможно это было бы даже более верным решением. Но так как названий заведений с отличающимся от наиболее встречающегося довольно немного (по 1-2), не будем сильно заморачиваться и для данного проекта оставим остальное так, как есть."
      ]
    },
    {
      "cell_type": "code",
      "metadata": {
        "colab": {
          "base_uri": "https://localhost:8080/"
        },
        "id": "UgI8KV6Y8CIW",
        "outputId": "bcc74b14-7f30-463e-b5c8-46cf2d03ae73"
      },
      "source": [
        "rest_data.duplicated().sum()"
      ],
      "execution_count": null,
      "outputs": [
        {
          "output_type": "execute_result",
          "data": {
            "text/plain": [
              "0"
            ]
          },
          "metadata": {
            "tags": []
          },
          "execution_count": 32
        }
      ]
    },
    {
      "cell_type": "markdown",
      "metadata": {
        "id": "BryJ1DOv8K-v"
      },
      "source": [
        "Так как полных дубликатов не нашли, посмотрим, есть ли неполные дубликаты (без учета id и количества мест)"
      ]
    },
    {
      "cell_type": "code",
      "metadata": {
        "colab": {
          "base_uri": "https://localhost:8080/"
        },
        "id": "o7I_hIEx8MRe",
        "outputId": "03022dec-e799-4121-c918-190ec41ce39e"
      },
      "source": [
        "rest_data.duplicated(['object_name','address','chain','object_type','address_new']).sum()"
      ],
      "execution_count": null,
      "outputs": [
        {
          "output_type": "execute_result",
          "data": {
            "text/plain": [
              "182"
            ]
          },
          "metadata": {
            "tags": []
          },
          "execution_count": 33
        }
      ]
    },
    {
      "cell_type": "code",
      "metadata": {
        "id": "LX6AbiSL8S2q"
      },
      "source": [
        "rest_data = rest_data.drop_duplicates(['object_name','address','chain','object_type','address_new']) # удаляем дубликаты"
      ],
      "execution_count": null,
      "outputs": []
    },
    {
      "cell_type": "markdown",
      "metadata": {
        "id": "UY7eRZaM8YGG"
      },
      "source": [
        "### Вывод:\r\n",
        "\r\n",
        "В первом шаге нашего исследования изучили представленные данные о 15 тысячах объектов общественного питания в Москве. Провели предобработку данных: привели данные в столбцах с названием завдения и адресом к нижнему регистру, в столбце тип объекта заменили длинные названия на более короткие для удобства последующего отображения на графиках, по возможности обработали названия объектов (наиболее крупные сетевые заведения привели к одному названию), проверили наличие пропусков и дубликатов, а также убрали все объекты, находящиеся в пределах Новой Москвы. В данном проекте рассматривать их не будем."
      ]
    },
    {
      "cell_type": "markdown",
      "metadata": {
        "id": "QTm2hDUJ8eNC"
      },
      "source": [
        "## Шаг 2. Анализ данных.\r\n",
        "<a id=\"step2\"></a>"
      ]
    },
    {
      "cell_type": "markdown",
      "metadata": {
        "id": "6LtXGUVE8mmf"
      },
      "source": [
        "Посмотрим, как в городе распределены по количеству различные виды объектов общепита."
      ]
    },
    {
      "cell_type": "code",
      "metadata": {
        "colab": {
          "base_uri": "https://localhost:8080/",
          "height": 429
        },
        "id": "c8tTzjmU8t1f",
        "outputId": "1508d6ec-4a13-425c-9334-09ec674225c4"
      },
      "source": [
        "fig, ax = plt.subplots(figsize=(9,6))\r\n",
        "ax = rest_data.groupby(['object_type'], as_index=False).agg({'object_name':'count'}).sort_values(by='object_name',ascending=False) \r\n",
        "sns.barplot (data=ax, x='object_name', y='object_type', palette='twilight_r')\r\n",
        "plt.xlabel('Количество объектов')\r\n",
        "plt.ylabel('Тип объекта')\r\n",
        "plt.title('Соотношение видов объектов общественного питания по количеству', fontsize=17, pad=15)\r\n",
        "plt.grid()\r\n",
        "plt.show()"
      ],
      "execution_count": null,
      "outputs": [
        {
          "output_type": "display_data",
          "data": {
            "image/png": "[encoded data removed]",
            "text/plain": [
              "<Figure size 648x432 with 1 Axes>"
            ]
          },
          "metadata": {
            "tags": []
          }
        }
      ]
    },
    {
      "cell_type": "markdown",
      "metadata": {
        "id": "wrWTd0o183I_"
      },
      "source": [
        "По количеству заведений в Москве лидируют кафе, затем следуют столовые, рестораны и фаст-фуды. Наименьшим количеством заведений в Москве представлены закусочные и кулинарии."
      ]
    },
    {
      "cell_type": "code",
      "metadata": {
        "colab": {
          "base_uri": "https://localhost:8080/",
          "height": 473
        },
        "id": "OaPbb0z384lU",
        "outputId": "713a5ab8-3a35-432f-cffc-44ce0d934121"
      },
      "source": [
        "test = rest_data.groupby(['object_type'])['object_name'].agg('count').sort_values().reset_index()\r\n",
        "fig, ax = plt.subplots(figsize=(7,7))\r\n",
        "ax.pie(test['object_name'], autopct='%1.1f%%', pctdistance=1.15)\r\n",
        "plt.legend(test['object_type'], bbox_to_anchor=(1.2,1))\r\n",
        "plt.title('Круговая диаграмма соотношения видов объектов общепита в Москве', fontsize=17, pad=40)\r\n",
        "ax.axis('equal')\r\n",
        "plt.show()"
      ],
      "execution_count": null,
      "outputs": [
        {
          "output_type": "display_data",
          "data": {
            "image/png": "[encoded data removed]",
            "text/plain": [
              "<Figure size 504x504 with 1 Axes>"
            ]
          },
          "metadata": {
            "tags": []
          }
        }
      ]
    },
    {
      "cell_type": "markdown",
      "metadata": {
        "id": "ycdR0kWT9Awu"
      },
      "source": [
        "### 2. Исследуйте соотношение сетевых и несетевых заведений по количеству. Постройте график.\r\n",
        "<a id=\"item_2\"></a>"
      ]
    },
    {
      "cell_type": "code",
      "metadata": {
        "colab": {
          "base_uri": "https://localhost:8080/"
        },
        "id": "2lHlVQEP9E-A",
        "outputId": "298248d3-d0a9-4743-918d-240776e1b556"
      },
      "source": [
        "rest_data.groupby('chain')['object_name'].count().sort_values()"
      ],
      "execution_count": null,
      "outputs": [
        {
          "output_type": "execute_result",
          "data": {
            "text/plain": [
              "chain\n",
              "да      2804\n",
              "нет    11555\n",
              "Name: object_name, dtype: int64"
            ]
          },
          "metadata": {
            "tags": []
          },
          "execution_count": 37
        }
      ]
    },
    {
      "cell_type": "markdown",
      "metadata": {
        "id": "wAxF5FfU9H9X"
      },
      "source": [
        "Сразу замечаем, что большая доля приходится на несетевые заведения."
      ]
    },
    {
      "cell_type": "code",
      "metadata": {
        "colab": {
          "base_uri": "https://localhost:8080/",
          "height": 301
        },
        "id": "BaitN5vo9JHp",
        "outputId": "ea7f3db7-9cda-443a-d321-93279c3f1b45"
      },
      "source": [
        "fig, ax = plt.subplots()\r\n",
        "ax = rest_data.groupby('chain')['object_name'].count().sort_values().reset_index()\r\n",
        "sns.barplot(data= ax, x='chain', y='object_name', palette='twilight_r')\r\n",
        "plt.title('Соотношение сетевых и несетевых заведений', fontsize=17, pad=15)\r\n",
        "plt.ylabel('Количество объектов')\r\n",
        "plt.xlabel(None)\r\n",
        "plt.show()"
      ],
      "execution_count": null,
      "outputs": [
        {
          "output_type": "display_data",
          "data": {
            "image/png": "[encoded data removed]",
            "text/plain": [
              "<Figure size 432x288 with 1 Axes>"
            ]
          },
          "metadata": {
            "tags": []
          }
        }
      ]
    },
    {
      "cell_type": "code",
      "metadata": {
        "colab": {
          "base_uri": "https://localhost:8080/",
          "height": 332
        },
        "id": "vuHAdXQg9SYA",
        "outputId": "3627bc75-4027-4de3-e037-71a701034bb9"
      },
      "source": [
        "rest_data.groupby('chain')['object_name'].count().sort_values().plot(kind='pie', colors =['pink', 'purple'], figsize=(5,5))\r\n",
        "plt.title('Соотношение сетевых и несетевых заведений', fontsize=17, pad=15)\r\n",
        "plt.ylabel(None)\r\n",
        "plt.show()"
      ],
      "execution_count": null,
      "outputs": [
        {
          "output_type": "display_data",
          "data": {
            "image/png": "[encoded data removed]",
            "text/plain": [
              "<Figure size 360x360 with 1 Axes>"
            ]
          },
          "metadata": {
            "tags": []
          }
        }
      ]
    },
    {
      "cell_type": "markdown",
      "metadata": {
        "id": "JcrWPXJn9XI9"
      },
      "source": [
        "Несмотря на то, что как интуитивно казалось, что сетевых заведений больше, они составляют от общего количества всего процентов 20. Остальные 80 приходятся на несетевые."
      ]
    },
    {
      "cell_type": "markdown",
      "metadata": {
        "id": "i9egnY7v9a-L"
      },
      "source": [
        "### 3. Для какого вида объекта общественного питания характерно сетевое распространение?\r\n",
        "<a id=\"item_3\"></a>"
      ]
    },
    {
      "cell_type": "code",
      "metadata": {
        "id": "MmP1h3Zy9fGH"
      },
      "source": [
        "chain_type = rest_data.pivot_table(index='object_type', columns='chain', values='object_name', aggfunc='count').reset_index().sort_values(by='да', ascending=False)"
      ],
      "execution_count": null,
      "outputs": []
    },
    {
      "cell_type": "code",
      "metadata": {
        "colab": {
          "base_uri": "https://localhost:8080/",
          "height": 229
        },
        "id": "CVoWkXpS9iSz",
        "outputId": "b595746e-0a4c-4d58-eb87-d72d9f092557"
      },
      "source": [
        "chain_type.style.background_gradient(cmap='viridis_r')"
      ],
      "execution_count": null,
      "outputs": [
        {
          "output_type": "execute_result",
          "data": {
            "text/html": [
              "<style  type=\"text/css\" >\n",
              "#T_c1a98310_4c5e_11eb_ae61_0242ac1c0002row0_col1,#T_c1a98310_4c5e_11eb_ae61_0242ac1c0002row0_col2{\n",
              "            background-color:  #440154;\n",
              "            color:  #f1f1f1;\n",
              "        }#T_c1a98310_4c5e_11eb_ae61_0242ac1c0002row1_col1,#T_c1a98310_4c5e_11eb_ae61_0242ac1c0002row8_col2{\n",
              "            background-color:  #25848e;\n",
              "            color:  #000000;\n",
              "        }#T_c1a98310_4c5e_11eb_ae61_0242ac1c0002row1_col2{\n",
              "            background-color:  #73d056;\n",
              "            color:  #000000;\n",
              "        }#T_c1a98310_4c5e_11eb_ae61_0242ac1c0002row2_col1{\n",
              "            background-color:  #25ac82;\n",
              "            color:  #000000;\n",
              "        }#T_c1a98310_4c5e_11eb_ae61_0242ac1c0002row2_col2{\n",
              "            background-color:  #2cb17e;\n",
              "            color:  #000000;\n",
              "        }#T_c1a98310_4c5e_11eb_ae61_0242ac1c0002row3_col1{\n",
              "            background-color:  #dae319;\n",
              "            color:  #000000;\n",
              "        }#T_c1a98310_4c5e_11eb_ae61_0242ac1c0002row3_col2,#T_c1a98310_4c5e_11eb_ae61_0242ac1c0002row8_col1{\n",
              "            background-color:  #fde725;\n",
              "            color:  #000000;\n",
              "        }#T_c1a98310_4c5e_11eb_ae61_0242ac1c0002row4_col1,#T_c1a98310_4c5e_11eb_ae61_0242ac1c0002row5_col1{\n",
              "            background-color:  #e7e419;\n",
              "            color:  #000000;\n",
              "        }#T_c1a98310_4c5e_11eb_ae61_0242ac1c0002row4_col2{\n",
              "            background-color:  #f1e51d;\n",
              "            color:  #000000;\n",
              "        }#T_c1a98310_4c5e_11eb_ae61_0242ac1c0002row5_col2{\n",
              "            background-color:  #eae51a;\n",
              "            color:  #000000;\n",
              "        }#T_c1a98310_4c5e_11eb_ae61_0242ac1c0002row6_col1{\n",
              "            background-color:  #efe51c;\n",
              "            color:  #000000;\n",
              "        }#T_c1a98310_4c5e_11eb_ae61_0242ac1c0002row6_col2{\n",
              "            background-color:  #9bd93c;\n",
              "            color:  #000000;\n",
              "        }#T_c1a98310_4c5e_11eb_ae61_0242ac1c0002row7_col1{\n",
              "            background-color:  #fbe723;\n",
              "            color:  #000000;\n",
              "        }#T_c1a98310_4c5e_11eb_ae61_0242ac1c0002row7_col2{\n",
              "            background-color:  #c5e021;\n",
              "            color:  #000000;\n",
              "        }</style><table id=\"T_c1a98310_4c5e_11eb_ae61_0242ac1c0002\" ><thead>    <tr>        <th class=\"index_name level0\" >chain</th>        <th class=\"col_heading level0 col0\" >object_type</th>        <th class=\"col_heading level0 col1\" >да</th>        <th class=\"col_heading level0 col2\" >нет</th>    </tr></thead><tbody>\n",
              "                <tr>\n",
              "                        <th id=\"T_c1a98310_4c5e_11eb_ae61_0242ac1c0002level0_row0\" class=\"row_heading level0 row0\" >3</th>\n",
              "                        <td id=\"T_c1a98310_4c5e_11eb_ae61_0242ac1c0002row0_col0\" class=\"data row0 col0\" >кафе</td>\n",
              "                        <td id=\"T_c1a98310_4c5e_11eb_ae61_0242ac1c0002row0_col1\" class=\"data row0 col1\" >1329</td>\n",
              "                        <td id=\"T_c1a98310_4c5e_11eb_ae61_0242ac1c0002row0_col2\" class=\"data row0 col2\" >4311</td>\n",
              "            </tr>\n",
              "            <tr>\n",
              "                        <th id=\"T_c1a98310_4c5e_11eb_ae61_0242ac1c0002level0_row1\" class=\"row_heading level0 row1\" >8</th>\n",
              "                        <td id=\"T_c1a98310_4c5e_11eb_ae61_0242ac1c0002row1_col0\" class=\"data row1 col0\" >фаст-фуд</td>\n",
              "                        <td id=\"T_c1a98310_4c5e_11eb_ae61_0242ac1c0002row1_col1\" class=\"data row1 col1\" >731</td>\n",
              "                        <td id=\"T_c1a98310_4c5e_11eb_ae61_0242ac1c0002row1_col2\" class=\"data row1 col2\" >1061</td>\n",
              "            </tr>\n",
              "            <tr>\n",
              "                        <th id=\"T_c1a98310_4c5e_11eb_ae61_0242ac1c0002level0_row2\" class=\"row_heading level0 row2\" >6</th>\n",
              "                        <td id=\"T_c1a98310_4c5e_11eb_ae61_0242ac1c0002row2_col0\" class=\"data row2 col0\" >ресторан</td>\n",
              "                        <td id=\"T_c1a98310_4c5e_11eb_ae61_0242ac1c0002row2_col1\" class=\"data row2 col1\" >513</td>\n",
              "                        <td id=\"T_c1a98310_4c5e_11eb_ae61_0242ac1c0002row2_col2\" class=\"data row2 col2\" >1667</td>\n",
              "            </tr>\n",
              "            <tr>\n",
              "                        <th id=\"T_c1a98310_4c5e_11eb_ae61_0242ac1c0002level0_row3\" class=\"row_heading level0 row3\" >5</th>\n",
              "                        <td id=\"T_c1a98310_4c5e_11eb_ae61_0242ac1c0002row3_col0\" class=\"data row3 col0\" >кулинария</td>\n",
              "                        <td id=\"T_c1a98310_4c5e_11eb_ae61_0242ac1c0002row3_col1\" class=\"data row3 col1\" >77</td>\n",
              "                        <td id=\"T_c1a98310_4c5e_11eb_ae61_0242ac1c0002row3_col2\" class=\"data row3 col2\" >173</td>\n",
              "            </tr>\n",
              "            <tr>\n",
              "                        <th id=\"T_c1a98310_4c5e_11eb_ae61_0242ac1c0002level0_row4\" class=\"row_heading level0 row4\" >2</th>\n",
              "                        <td id=\"T_c1a98310_4c5e_11eb_ae61_0242ac1c0002row4_col0\" class=\"data row4 col0\" >закусочная</td>\n",
              "                        <td id=\"T_c1a98310_4c5e_11eb_ae61_0242ac1c0002row4_col1\" class=\"data row4 col1\" >54</td>\n",
              "                        <td id=\"T_c1a98310_4c5e_11eb_ae61_0242ac1c0002row4_col2\" class=\"data row4 col2\" >264</td>\n",
              "            </tr>\n",
              "            <tr>\n",
              "                        <th id=\"T_c1a98310_4c5e_11eb_ae61_0242ac1c0002level0_row5\" class=\"row_heading level0 row5\" >4</th>\n",
              "                        <td id=\"T_c1a98310_4c5e_11eb_ae61_0242ac1c0002row5_col0\" class=\"data row5 col0\" >кафетерий</td>\n",
              "                        <td id=\"T_c1a98310_4c5e_11eb_ae61_0242ac1c0002row5_col1\" class=\"data row5 col1\" >50</td>\n",
              "                        <td id=\"T_c1a98310_4c5e_11eb_ae61_0242ac1c0002row5_col2\" class=\"data row5 col2\" >313</td>\n",
              "            </tr>\n",
              "            <tr>\n",
              "                        <th id=\"T_c1a98310_4c5e_11eb_ae61_0242ac1c0002level0_row6\" class=\"row_heading level0 row6\" >0</th>\n",
              "                        <td id=\"T_c1a98310_4c5e_11eb_ae61_0242ac1c0002row6_col0\" class=\"data row6 col0\" >бар</td>\n",
              "                        <td id=\"T_c1a98310_4c5e_11eb_ae61_0242ac1c0002row6_col1\" class=\"data row6 col1\" >36</td>\n",
              "                        <td id=\"T_c1a98310_4c5e_11eb_ae61_0242ac1c0002row6_col2\" class=\"data row6 col2\" >788</td>\n",
              "            </tr>\n",
              "            <tr>\n",
              "                        <th id=\"T_c1a98310_4c5e_11eb_ae61_0242ac1c0002level0_row7\" class=\"row_heading level0 row7\" >1</th>\n",
              "                        <td id=\"T_c1a98310_4c5e_11eb_ae61_0242ac1c0002row7_col0\" class=\"data row7 col0\" >буфет</td>\n",
              "                        <td id=\"T_c1a98310_4c5e_11eb_ae61_0242ac1c0002row7_col1\" class=\"data row7 col1\" >11</td>\n",
              "                        <td id=\"T_c1a98310_4c5e_11eb_ae61_0242ac1c0002row7_col2\" class=\"data row7 col2\" >538</td>\n",
              "            </tr>\n",
              "            <tr>\n",
              "                        <th id=\"T_c1a98310_4c5e_11eb_ae61_0242ac1c0002level0_row8\" class=\"row_heading level0 row8\" >7</th>\n",
              "                        <td id=\"T_c1a98310_4c5e_11eb_ae61_0242ac1c0002row8_col0\" class=\"data row8 col0\" >столовая</td>\n",
              "                        <td id=\"T_c1a98310_4c5e_11eb_ae61_0242ac1c0002row8_col1\" class=\"data row8 col1\" >3</td>\n",
              "                        <td id=\"T_c1a98310_4c5e_11eb_ae61_0242ac1c0002row8_col2\" class=\"data row8 col2\" >2440</td>\n",
              "            </tr>\n",
              "    </tbody></table>"
            ],
            "text/plain": [
              "<pandas.io.formats.style.Styler at 0x7fce1b0eff98>"
            ]
          },
          "metadata": {
            "tags": []
          },
          "execution_count": 41
        }
      ]
    },
    {
      "cell_type": "code",
      "metadata": {
        "id": "p_UQ2tlj9nnW"
      },
      "source": [
        "chain_type.columns = ['object_type', 'yes', 'no']"
      ],
      "execution_count": null,
      "outputs": []
    },
    {
      "cell_type": "code",
      "metadata": {
        "id": "1zRVDX4B9soL"
      },
      "source": [
        "chain_type['all'] = chain_type['yes'] + chain_type['no']"
      ],
      "execution_count": null,
      "outputs": []
    },
    {
      "cell_type": "code",
      "metadata": {
        "id": "5xLF3U_L9v21"
      },
      "source": [
        "chain_type['rate_yes_chain'] = chain_type['yes'] / chain_type['all'] * 100\r\n",
        "chain_type['rate_no_chain'] = chain_type['no'] / chain_type['all'] * 100"
      ],
      "execution_count": null,
      "outputs": []
    },
    {
      "cell_type": "code",
      "metadata": {
        "colab": {
          "base_uri": "https://localhost:8080/",
          "height": 229
        },
        "id": "nOuhsmVZASwz",
        "outputId": "cc4d8432-8083-42f6-d8f3-b5f023d92279"
      },
      "source": [
        "chain_type.style.background_gradient(cmap='viridis_r')"
      ],
      "execution_count": 47,
      "outputs": [
        {
          "output_type": "execute_result",
          "data": {
            "text/html": [
              "<style  type=\"text/css\" >\n",
              "#T_70ac0a3a_4c60_11eb_ae61_0242ac1c0002row0_col1,#T_70ac0a3a_4c60_11eb_ae61_0242ac1c0002row0_col2,#T_70ac0a3a_4c60_11eb_ae61_0242ac1c0002row0_col3,#T_70ac0a3a_4c60_11eb_ae61_0242ac1c0002row1_col4,#T_70ac0a3a_4c60_11eb_ae61_0242ac1c0002row8_col5{\n",
              "            background-color:  #440154;\n",
              "            color:  #f1f1f1;\n",
              "        }#T_70ac0a3a_4c60_11eb_ae61_0242ac1c0002row0_col4,#T_70ac0a3a_4c60_11eb_ae61_0242ac1c0002row2_col4{\n",
              "            background-color:  #277e8e;\n",
              "            color:  #000000;\n",
              "        }#T_70ac0a3a_4c60_11eb_ae61_0242ac1c0002row0_col5,#T_70ac0a3a_4c60_11eb_ae61_0242ac1c0002row2_col5{\n",
              "            background-color:  #1fa287;\n",
              "            color:  #000000;\n",
              "        }#T_70ac0a3a_4c60_11eb_ae61_0242ac1c0002row1_col1,#T_70ac0a3a_4c60_11eb_ae61_0242ac1c0002row8_col2{\n",
              "            background-color:  #25848e;\n",
              "            color:  #000000;\n",
              "        }#T_70ac0a3a_4c60_11eb_ae61_0242ac1c0002row1_col2{\n",
              "            background-color:  #73d056;\n",
              "            color:  #000000;\n",
              "        }#T_70ac0a3a_4c60_11eb_ae61_0242ac1c0002row1_col3{\n",
              "            background-color:  #4ac16d;\n",
              "            color:  #000000;\n",
              "        }#T_70ac0a3a_4c60_11eb_ae61_0242ac1c0002row1_col5,#T_70ac0a3a_4c60_11eb_ae61_0242ac1c0002row3_col2,#T_70ac0a3a_4c60_11eb_ae61_0242ac1c0002row3_col3,#T_70ac0a3a_4c60_11eb_ae61_0242ac1c0002row8_col1,#T_70ac0a3a_4c60_11eb_ae61_0242ac1c0002row8_col4{\n",
              "            background-color:  #fde725;\n",
              "            color:  #000000;\n",
              "        }#T_70ac0a3a_4c60_11eb_ae61_0242ac1c0002row2_col1{\n",
              "            background-color:  #25ac82;\n",
              "            color:  #000000;\n",
              "        }#T_70ac0a3a_4c60_11eb_ae61_0242ac1c0002row2_col2{\n",
              "            background-color:  #2cb17e;\n",
              "            color:  #000000;\n",
              "        }#T_70ac0a3a_4c60_11eb_ae61_0242ac1c0002row2_col3{\n",
              "            background-color:  #2db27d;\n",
              "            color:  #000000;\n",
              "        }#T_70ac0a3a_4c60_11eb_ae61_0242ac1c0002row3_col1,#T_70ac0a3a_4c60_11eb_ae61_0242ac1c0002row7_col3{\n",
              "            background-color:  #dae319;\n",
              "            color:  #000000;\n",
              "        }#T_70ac0a3a_4c60_11eb_ae61_0242ac1c0002row3_col4{\n",
              "            background-color:  #3c508b;\n",
              "            color:  #f1f1f1;\n",
              "        }#T_70ac0a3a_4c60_11eb_ae61_0242ac1c0002row3_col5{\n",
              "            background-color:  #60ca60;\n",
              "            color:  #000000;\n",
              "        }#T_70ac0a3a_4c60_11eb_ae61_0242ac1c0002row4_col1,#T_70ac0a3a_4c60_11eb_ae61_0242ac1c0002row5_col1{\n",
              "            background-color:  #e7e419;\n",
              "            color:  #000000;\n",
              "        }#T_70ac0a3a_4c60_11eb_ae61_0242ac1c0002row4_col2,#T_70ac0a3a_4c60_11eb_ae61_0242ac1c0002row5_col3{\n",
              "            background-color:  #f1e51d;\n",
              "            color:  #000000;\n",
              "        }#T_70ac0a3a_4c60_11eb_ae61_0242ac1c0002row4_col3{\n",
              "            background-color:  #f6e620;\n",
              "            color:  #000000;\n",
              "        }#T_70ac0a3a_4c60_11eb_ae61_0242ac1c0002row4_col4{\n",
              "            background-color:  #20a486;\n",
              "            color:  #000000;\n",
              "        }#T_70ac0a3a_4c60_11eb_ae61_0242ac1c0002row4_col5{\n",
              "            background-color:  #287c8e;\n",
              "            color:  #000000;\n",
              "        }#T_70ac0a3a_4c60_11eb_ae61_0242ac1c0002row5_col2{\n",
              "            background-color:  #eae51a;\n",
              "            color:  #000000;\n",
              "        }#T_70ac0a3a_4c60_11eb_ae61_0242ac1c0002row5_col4{\n",
              "            background-color:  #35b779;\n",
              "            color:  #000000;\n",
              "        }#T_70ac0a3a_4c60_11eb_ae61_0242ac1c0002row5_col5{\n",
              "            background-color:  #31688e;\n",
              "            color:  #f1f1f1;\n",
              "        }#T_70ac0a3a_4c60_11eb_ae61_0242ac1c0002row6_col1{\n",
              "            background-color:  #efe51c;\n",
              "            color:  #000000;\n",
              "        }#T_70ac0a3a_4c60_11eb_ae61_0242ac1c0002row6_col2{\n",
              "            background-color:  #9bd93c;\n",
              "            color:  #000000;\n",
              "        }#T_70ac0a3a_4c60_11eb_ae61_0242ac1c0002row6_col3{\n",
              "            background-color:  #b8de29;\n",
              "            color:  #000000;\n",
              "        }#T_70ac0a3a_4c60_11eb_ae61_0242ac1c0002row6_col4{\n",
              "            background-color:  #bade28;\n",
              "            color:  #000000;\n",
              "        }#T_70ac0a3a_4c60_11eb_ae61_0242ac1c0002row6_col5{\n",
              "            background-color:  #482576;\n",
              "            color:  #f1f1f1;\n",
              "        }#T_70ac0a3a_4c60_11eb_ae61_0242ac1c0002row7_col1{\n",
              "            background-color:  #fbe723;\n",
              "            color:  #000000;\n",
              "        }#T_70ac0a3a_4c60_11eb_ae61_0242ac1c0002row7_col2{\n",
              "            background-color:  #c5e021;\n",
              "            color:  #000000;\n",
              "        }#T_70ac0a3a_4c60_11eb_ae61_0242ac1c0002row7_col4{\n",
              "            background-color:  #e2e418;\n",
              "            color:  #000000;\n",
              "        }#T_70ac0a3a_4c60_11eb_ae61_0242ac1c0002row7_col5{\n",
              "            background-color:  #471164;\n",
              "            color:  #f1f1f1;\n",
              "        }#T_70ac0a3a_4c60_11eb_ae61_0242ac1c0002row8_col3{\n",
              "            background-color:  #21a685;\n",
              "            color:  #000000;\n",
              "        }</style><table id=\"T_70ac0a3a_4c60_11eb_ae61_0242ac1c0002\" ><thead>    <tr>        <th class=\"blank level0\" ></th>        <th class=\"col_heading level0 col0\" >object_type</th>        <th class=\"col_heading level0 col1\" >yes</th>        <th class=\"col_heading level0 col2\" >no</th>        <th class=\"col_heading level0 col3\" >all</th>        <th class=\"col_heading level0 col4\" >rate_yes_chain</th>        <th class=\"col_heading level0 col5\" >rate_no_chain</th>    </tr></thead><tbody>\n",
              "                <tr>\n",
              "                        <th id=\"T_70ac0a3a_4c60_11eb_ae61_0242ac1c0002level0_row0\" class=\"row_heading level0 row0\" >3</th>\n",
              "                        <td id=\"T_70ac0a3a_4c60_11eb_ae61_0242ac1c0002row0_col0\" class=\"data row0 col0\" >кафе</td>\n",
              "                        <td id=\"T_70ac0a3a_4c60_11eb_ae61_0242ac1c0002row0_col1\" class=\"data row0 col1\" >1329</td>\n",
              "                        <td id=\"T_70ac0a3a_4c60_11eb_ae61_0242ac1c0002row0_col2\" class=\"data row0 col2\" >4311</td>\n",
              "                        <td id=\"T_70ac0a3a_4c60_11eb_ae61_0242ac1c0002row0_col3\" class=\"data row0 col3\" >5640</td>\n",
              "                        <td id=\"T_70ac0a3a_4c60_11eb_ae61_0242ac1c0002row0_col4\" class=\"data row0 col4\" >23.563830</td>\n",
              "                        <td id=\"T_70ac0a3a_4c60_11eb_ae61_0242ac1c0002row0_col5\" class=\"data row0 col5\" >76.436170</td>\n",
              "            </tr>\n",
              "            <tr>\n",
              "                        <th id=\"T_70ac0a3a_4c60_11eb_ae61_0242ac1c0002level0_row1\" class=\"row_heading level0 row1\" >8</th>\n",
              "                        <td id=\"T_70ac0a3a_4c60_11eb_ae61_0242ac1c0002row1_col0\" class=\"data row1 col0\" >фаст-фуд</td>\n",
              "                        <td id=\"T_70ac0a3a_4c60_11eb_ae61_0242ac1c0002row1_col1\" class=\"data row1 col1\" >731</td>\n",
              "                        <td id=\"T_70ac0a3a_4c60_11eb_ae61_0242ac1c0002row1_col2\" class=\"data row1 col2\" >1061</td>\n",
              "                        <td id=\"T_70ac0a3a_4c60_11eb_ae61_0242ac1c0002row1_col3\" class=\"data row1 col3\" >1792</td>\n",
              "                        <td id=\"T_70ac0a3a_4c60_11eb_ae61_0242ac1c0002row1_col4\" class=\"data row1 col4\" >40.792411</td>\n",
              "                        <td id=\"T_70ac0a3a_4c60_11eb_ae61_0242ac1c0002row1_col5\" class=\"data row1 col5\" >59.207589</td>\n",
              "            </tr>\n",
              "            <tr>\n",
              "                        <th id=\"T_70ac0a3a_4c60_11eb_ae61_0242ac1c0002level0_row2\" class=\"row_heading level0 row2\" >6</th>\n",
              "                        <td id=\"T_70ac0a3a_4c60_11eb_ae61_0242ac1c0002row2_col0\" class=\"data row2 col0\" >ресторан</td>\n",
              "                        <td id=\"T_70ac0a3a_4c60_11eb_ae61_0242ac1c0002row2_col1\" class=\"data row2 col1\" >513</td>\n",
              "                        <td id=\"T_70ac0a3a_4c60_11eb_ae61_0242ac1c0002row2_col2\" class=\"data row2 col2\" >1667</td>\n",
              "                        <td id=\"T_70ac0a3a_4c60_11eb_ae61_0242ac1c0002row2_col3\" class=\"data row2 col3\" >2180</td>\n",
              "                        <td id=\"T_70ac0a3a_4c60_11eb_ae61_0242ac1c0002row2_col4\" class=\"data row2 col4\" >23.532110</td>\n",
              "                        <td id=\"T_70ac0a3a_4c60_11eb_ae61_0242ac1c0002row2_col5\" class=\"data row2 col5\" >76.467890</td>\n",
              "            </tr>\n",
              "            <tr>\n",
              "                        <th id=\"T_70ac0a3a_4c60_11eb_ae61_0242ac1c0002level0_row3\" class=\"row_heading level0 row3\" >5</th>\n",
              "                        <td id=\"T_70ac0a3a_4c60_11eb_ae61_0242ac1c0002row3_col0\" class=\"data row3 col0\" >кулинария</td>\n",
              "                        <td id=\"T_70ac0a3a_4c60_11eb_ae61_0242ac1c0002row3_col1\" class=\"data row3 col1\" >77</td>\n",
              "                        <td id=\"T_70ac0a3a_4c60_11eb_ae61_0242ac1c0002row3_col2\" class=\"data row3 col2\" >173</td>\n",
              "                        <td id=\"T_70ac0a3a_4c60_11eb_ae61_0242ac1c0002row3_col3\" class=\"data row3 col3\" >250</td>\n",
              "                        <td id=\"T_70ac0a3a_4c60_11eb_ae61_0242ac1c0002row3_col4\" class=\"data row3 col4\" >30.800000</td>\n",
              "                        <td id=\"T_70ac0a3a_4c60_11eb_ae61_0242ac1c0002row3_col5\" class=\"data row3 col5\" >69.200000</td>\n",
              "            </tr>\n",
              "            <tr>\n",
              "                        <th id=\"T_70ac0a3a_4c60_11eb_ae61_0242ac1c0002level0_row4\" class=\"row_heading level0 row4\" >2</th>\n",
              "                        <td id=\"T_70ac0a3a_4c60_11eb_ae61_0242ac1c0002row4_col0\" class=\"data row4 col0\" >закусочная</td>\n",
              "                        <td id=\"T_70ac0a3a_4c60_11eb_ae61_0242ac1c0002row4_col1\" class=\"data row4 col1\" >54</td>\n",
              "                        <td id=\"T_70ac0a3a_4c60_11eb_ae61_0242ac1c0002row4_col2\" class=\"data row4 col2\" >264</td>\n",
              "                        <td id=\"T_70ac0a3a_4c60_11eb_ae61_0242ac1c0002row4_col3\" class=\"data row4 col3\" >318</td>\n",
              "                        <td id=\"T_70ac0a3a_4c60_11eb_ae61_0242ac1c0002row4_col4\" class=\"data row4 col4\" >16.981132</td>\n",
              "                        <td id=\"T_70ac0a3a_4c60_11eb_ae61_0242ac1c0002row4_col5\" class=\"data row4 col5\" >83.018868</td>\n",
              "            </tr>\n",
              "            <tr>\n",
              "                        <th id=\"T_70ac0a3a_4c60_11eb_ae61_0242ac1c0002level0_row5\" class=\"row_heading level0 row5\" >4</th>\n",
              "                        <td id=\"T_70ac0a3a_4c60_11eb_ae61_0242ac1c0002row5_col0\" class=\"data row5 col0\" >кафетерий</td>\n",
              "                        <td id=\"T_70ac0a3a_4c60_11eb_ae61_0242ac1c0002row5_col1\" class=\"data row5 col1\" >50</td>\n",
              "                        <td id=\"T_70ac0a3a_4c60_11eb_ae61_0242ac1c0002row5_col2\" class=\"data row5 col2\" >313</td>\n",
              "                        <td id=\"T_70ac0a3a_4c60_11eb_ae61_0242ac1c0002row5_col3\" class=\"data row5 col3\" >363</td>\n",
              "                        <td id=\"T_70ac0a3a_4c60_11eb_ae61_0242ac1c0002row5_col4\" class=\"data row5 col4\" >13.774105</td>\n",
              "                        <td id=\"T_70ac0a3a_4c60_11eb_ae61_0242ac1c0002row5_col5\" class=\"data row5 col5\" >86.225895</td>\n",
              "            </tr>\n",
              "            <tr>\n",
              "                        <th id=\"T_70ac0a3a_4c60_11eb_ae61_0242ac1c0002level0_row6\" class=\"row_heading level0 row6\" >0</th>\n",
              "                        <td id=\"T_70ac0a3a_4c60_11eb_ae61_0242ac1c0002row6_col0\" class=\"data row6 col0\" >бар</td>\n",
              "                        <td id=\"T_70ac0a3a_4c60_11eb_ae61_0242ac1c0002row6_col1\" class=\"data row6 col1\" >36</td>\n",
              "                        <td id=\"T_70ac0a3a_4c60_11eb_ae61_0242ac1c0002row6_col2\" class=\"data row6 col2\" >788</td>\n",
              "                        <td id=\"T_70ac0a3a_4c60_11eb_ae61_0242ac1c0002row6_col3\" class=\"data row6 col3\" >824</td>\n",
              "                        <td id=\"T_70ac0a3a_4c60_11eb_ae61_0242ac1c0002row6_col4\" class=\"data row6 col4\" >4.368932</td>\n",
              "                        <td id=\"T_70ac0a3a_4c60_11eb_ae61_0242ac1c0002row6_col5\" class=\"data row6 col5\" >95.631068</td>\n",
              "            </tr>\n",
              "            <tr>\n",
              "                        <th id=\"T_70ac0a3a_4c60_11eb_ae61_0242ac1c0002level0_row7\" class=\"row_heading level0 row7\" >1</th>\n",
              "                        <td id=\"T_70ac0a3a_4c60_11eb_ae61_0242ac1c0002row7_col0\" class=\"data row7 col0\" >буфет</td>\n",
              "                        <td id=\"T_70ac0a3a_4c60_11eb_ae61_0242ac1c0002row7_col1\" class=\"data row7 col1\" >11</td>\n",
              "                        <td id=\"T_70ac0a3a_4c60_11eb_ae61_0242ac1c0002row7_col2\" class=\"data row7 col2\" >538</td>\n",
              "                        <td id=\"T_70ac0a3a_4c60_11eb_ae61_0242ac1c0002row7_col3\" class=\"data row7 col3\" >549</td>\n",
              "                        <td id=\"T_70ac0a3a_4c60_11eb_ae61_0242ac1c0002row7_col4\" class=\"data row7 col4\" >2.003643</td>\n",
              "                        <td id=\"T_70ac0a3a_4c60_11eb_ae61_0242ac1c0002row7_col5\" class=\"data row7 col5\" >97.996357</td>\n",
              "            </tr>\n",
              "            <tr>\n",
              "                        <th id=\"T_70ac0a3a_4c60_11eb_ae61_0242ac1c0002level0_row8\" class=\"row_heading level0 row8\" >7</th>\n",
              "                        <td id=\"T_70ac0a3a_4c60_11eb_ae61_0242ac1c0002row8_col0\" class=\"data row8 col0\" >столовая</td>\n",
              "                        <td id=\"T_70ac0a3a_4c60_11eb_ae61_0242ac1c0002row8_col1\" class=\"data row8 col1\" >3</td>\n",
              "                        <td id=\"T_70ac0a3a_4c60_11eb_ae61_0242ac1c0002row8_col2\" class=\"data row8 col2\" >2440</td>\n",
              "                        <td id=\"T_70ac0a3a_4c60_11eb_ae61_0242ac1c0002row8_col3\" class=\"data row8 col3\" >2443</td>\n",
              "                        <td id=\"T_70ac0a3a_4c60_11eb_ae61_0242ac1c0002row8_col4\" class=\"data row8 col4\" >0.122800</td>\n",
              "                        <td id=\"T_70ac0a3a_4c60_11eb_ae61_0242ac1c0002row8_col5\" class=\"data row8 col5\" >99.877200</td>\n",
              "            </tr>\n",
              "    </tbody></table>"
            ],
            "text/plain": [
              "<pandas.io.formats.style.Styler at 0x7fce1b0efc50>"
            ]
          },
          "metadata": {
            "tags": []
          },
          "execution_count": 47
        }
      ]
    },
    {
      "cell_type": "code",
      "metadata": {
        "id": "25Jzfc_PAYFz"
      },
      "source": [
        "chain_type = chain_type.set_index('object_type')"
      ],
      "execution_count": 48,
      "outputs": []
    },
    {
      "cell_type": "code",
      "metadata": {
        "colab": {
          "base_uri": "https://localhost:8080/",
          "height": 375
        },
        "id": "Ir5_tjCXAbQh",
        "outputId": "01ac0b51-ca58-45e4-a58b-f139ec0ad723"
      },
      "source": [
        "chain_type[['rate_yes_chain', 'rate_no_chain']].plot.barh(stacked=True, figsize=(7,5), color=('r', 'g'))\r\n",
        "plt.title('Процентное соотношение сетевых и несетвых объектов питания,%', fontsize=17, pad=15)\r\n",
        "plt.legend(['сетевые', 'несетевые'])\r\n",
        "plt.xlabel('Доля заведений от общего количества')\r\n",
        "plt.ylabel('Тип заведения')\r\n",
        "plt.show()"
      ],
      "execution_count": 49,
      "outputs": [
        {
          "output_type": "display_data",
          "data": {
            "image/png": "[encoded data removed]",
            "text/plain": [
              "<Figure size 504x360 with 1 Axes>"
            ]
          },
          "metadata": {
            "tags": []
          }
        }
      ]
    },
    {
      "cell_type": "markdown",
      "metadata": {
        "id": "4xRkwBoCAs1k"
      },
      "source": [
        "Конечно, среди всех типов заведений наибольшая доля приходится на несетевые. У сетевых заведений наиболее высокая доля предприятий быстрого питания (40%). Также высока доля у магазинов кулинарии (30%), ресторанов и кафе (по 23%). Минимальная доля сетевых заведений среди столовых (почти 100% приходится на несетевые) и буфеты(2%)."
      ]
    },
    {
      "cell_type": "markdown",
      "metadata": {
        "id": "IREjRG8OA3Ew"
      },
      "source": [
        "### 4. Что характерно для сетевых заведений: много заведений с небольшим числом посадочных мест в каждом или мало заведений с большим количеством посадочных мест?\r\n",
        "<a id=\"item_4\"></a>"
      ]
    },
    {
      "cell_type": "code",
      "metadata": {
        "colab": {
          "base_uri": "https://localhost:8080/",
          "height": 204
        },
        "id": "xRMZOSffBBJI",
        "outputId": "0a6f75a6-2b00-4ebb-84da-79d481ea599c"
      },
      "source": [
        "chain_yes = rest_data.query('chain == \"да\"')\r\n",
        "chain_yes.head()"
      ],
      "execution_count": 50,
      "outputs": [
        {
          "output_type": "execute_result",
          "data": {
            "text/html": [
              "<div>\n",
              "<style scoped>\n",
              "    .dataframe tbody tr th:only-of-type {\n",
              "        vertical-align: middle;\n",
              "    }\n",
              "\n",
              "    .dataframe tbody tr th {\n",
              "        vertical-align: top;\n",
              "    }\n",
              "\n",
              "    .dataframe thead th {\n",
              "        text-align: right;\n",
              "    }\n",
              "</style>\n",
              "<table border=\"1\" class=\"dataframe\">\n",
              "  <thead>\n",
              "    <tr style=\"text-align: right;\">\n",
              "      <th></th>\n",
              "      <th>id</th>\n",
              "      <th>object_name</th>\n",
              "      <th>chain</th>\n",
              "      <th>object_type</th>\n",
              "      <th>address</th>\n",
              "      <th>number</th>\n",
              "      <th>address_new</th>\n",
              "    </tr>\n",
              "  </thead>\n",
              "  <tbody>\n",
              "    <tr>\n",
              "      <th>3</th>\n",
              "      <td>21894</td>\n",
              "      <td>пиццетория</td>\n",
              "      <td>да</td>\n",
              "      <td>кафе</td>\n",
              "      <td>город москва, абрамцевская улица, дом 1</td>\n",
              "      <td>40</td>\n",
              "      <td>абрамцевская улица, дом 1</td>\n",
              "    </tr>\n",
              "    <tr>\n",
              "      <th>6</th>\n",
              "      <td>148815</td>\n",
              "      <td>брусника</td>\n",
              "      <td>да</td>\n",
              "      <td>кафе</td>\n",
              "      <td>город москва, переулок сивцев вражек, дом 6/2</td>\n",
              "      <td>10</td>\n",
              "      <td>переулок сивцев вражек, дом 6/2</td>\n",
              "    </tr>\n",
              "    <tr>\n",
              "      <th>13</th>\n",
              "      <td>22579</td>\n",
              "      <td>алло пицца</td>\n",
              "      <td>да</td>\n",
              "      <td>кафе</td>\n",
              "      <td>город москва, улица авиаторов, дом 14</td>\n",
              "      <td>32</td>\n",
              "      <td>улица авиаторов, дом 14</td>\n",
              "    </tr>\n",
              "    <tr>\n",
              "      <th>16</th>\n",
              "      <td>144107</td>\n",
              "      <td>суши wok</td>\n",
              "      <td>да</td>\n",
              "      <td>фаст-фуд</td>\n",
              "      <td>город москва, азовская улица, дом 3</td>\n",
              "      <td>7</td>\n",
              "      <td>азовская улица, дом 3</td>\n",
              "    </tr>\n",
              "    <tr>\n",
              "      <th>18</th>\n",
              "      <td>58565</td>\n",
              "      <td>тануки</td>\n",
              "      <td>да</td>\n",
              "      <td>ресторан</td>\n",
              "      <td>город москва, большая академическая улица, дом 65</td>\n",
              "      <td>160</td>\n",
              "      <td>большая академическая улица, дом 65</td>\n",
              "    </tr>\n",
              "  </tbody>\n",
              "</table>\n",
              "</div>"
            ],
            "text/plain": [
              "        id object_name  ... number                          address_new\n",
              "3    21894  пиццетория  ...     40            абрамцевская улица, дом 1\n",
              "6   148815    брусника  ...     10      переулок сивцев вражек, дом 6/2\n",
              "13   22579  алло пицца  ...     32              улица авиаторов, дом 14\n",
              "16  144107    суши wok  ...      7                азовская улица, дом 3\n",
              "18   58565      тануки  ...    160  большая академическая улица, дом 65\n",
              "\n",
              "[5 rows x 7 columns]"
            ]
          },
          "metadata": {
            "tags": []
          },
          "execution_count": 50
        }
      ]
    },
    {
      "cell_type": "code",
      "metadata": {
        "colab": {
          "base_uri": "https://localhost:8080/"
        },
        "id": "bFnsBNC8BFho",
        "outputId": "0067b7a8-bbff-458c-fc1b-a0ff0c1eb927"
      },
      "source": [
        "chain_yes['object_name'].value_counts().head(20)"
      ],
      "execution_count": 51,
      "outputs": [
        {
          "output_type": "execute_result",
          "data": {
            "text/plain": [
              "шоколадница        176\n",
              "kfc                174\n",
              "макдоналдс         159\n",
              "бургер кинг        146\n",
              "домино'с пицца      98\n",
              "теремок             87\n",
              "крошка картошка     82\n",
              "милти               69\n",
              "суши wok            67\n",
              "папа джонс          48\n",
              "додо пицца          45\n",
              "кофе с собой        43\n",
              "чайхона №1          42\n",
              "хинкальная          36\n",
              "якитория            34\n",
              "subway              34\n",
              "тануки              32\n",
              "хлеб насущный       32\n",
              "кофе хаус           32\n",
              "starbucks           28\n",
              "Name: object_name, dtype: int64"
            ]
          },
          "metadata": {
            "tags": []
          },
          "execution_count": 51
        }
      ]
    },
    {
      "cell_type": "markdown",
      "metadata": {
        "id": "yxceGkzUBXtA"
      },
      "source": [
        "Сгруппируем табличку, которая будет показывать количество заведений каждой сети и среднее число посадочных мест."
      ]
    },
    {
      "cell_type": "code",
      "metadata": {
        "colab": {
          "base_uri": "https://localhost:8080/",
          "height": 204
        },
        "id": "Z1h51h62BWHq",
        "outputId": "9622041d-b7d1-411f-bd43-b3ce9e61aba5"
      },
      "source": [
        "data_chain = chain_yes.groupby('object_name').agg({'id':'count', 'number':'mean'}).reset_index().sort_values(by='id', ascending=False)\r\n",
        "data_chain.head()"
      ],
      "execution_count": 52,
      "outputs": [
        {
          "output_type": "execute_result",
          "data": {
            "text/html": [
              "<div>\n",
              "<style scoped>\n",
              "    .dataframe tbody tr th:only-of-type {\n",
              "        vertical-align: middle;\n",
              "    }\n",
              "\n",
              "    .dataframe tbody tr th {\n",
              "        vertical-align: top;\n",
              "    }\n",
              "\n",
              "    .dataframe thead th {\n",
              "        text-align: right;\n",
              "    }\n",
              "</style>\n",
              "<table border=\"1\" class=\"dataframe\">\n",
              "  <thead>\n",
              "    <tr style=\"text-align: right;\">\n",
              "      <th></th>\n",
              "      <th>object_name</th>\n",
              "      <th>id</th>\n",
              "      <th>number</th>\n",
              "    </tr>\n",
              "  </thead>\n",
              "  <tbody>\n",
              "    <tr>\n",
              "      <th>512</th>\n",
              "      <td>шоколадница</td>\n",
              "      <td>176</td>\n",
              "      <td>58.153409</td>\n",
              "    </tr>\n",
              "    <tr>\n",
              "      <th>22</th>\n",
              "      <td>kfc</td>\n",
              "      <td>174</td>\n",
              "      <td>56.511494</td>\n",
              "    </tr>\n",
              "    <tr>\n",
              "      <th>303</th>\n",
              "      <td>макдоналдс</td>\n",
              "      <td>159</td>\n",
              "      <td>91.672956</td>\n",
              "    </tr>\n",
              "    <tr>\n",
              "      <th>104</th>\n",
              "      <td>бургер кинг</td>\n",
              "      <td>146</td>\n",
              "      <td>49.363014</td>\n",
              "    </tr>\n",
              "    <tr>\n",
              "      <th>152</th>\n",
              "      <td>домино'с пицца</td>\n",
              "      <td>98</td>\n",
              "      <td>17.979592</td>\n",
              "    </tr>\n",
              "  </tbody>\n",
              "</table>\n",
              "</div>"
            ],
            "text/plain": [
              "        object_name   id     number\n",
              "512     шоколадница  176  58.153409\n",
              "22              kfc  174  56.511494\n",
              "303      макдоналдс  159  91.672956\n",
              "104     бургер кинг  146  49.363014\n",
              "152  домино'с пицца   98  17.979592"
            ]
          },
          "metadata": {
            "tags": []
          },
          "execution_count": 52
        }
      ]
    },
    {
      "cell_type": "code",
      "metadata": {
        "colab": {
          "base_uri": "https://localhost:8080/",
          "height": 457
        },
        "id": "AIITMyi8Be2n",
        "outputId": "a7d04a8e-4d31-44e8-f1b8-851bb74ae936"
      },
      "source": [
        "sns.jointplot(x='number', y='id', data=data_chain, kind='reg', color='purple')\r\n",
        "plt.xlabel('Количество посадочных мест')\r\n",
        "plt.ylabel('Количество заведений в сети')\r\n",
        "plt.title('Взаимосвязь между количеством посадочных мест и числом заведений в сети', fontsize=17, pad=75)\r\n",
        "plt.grid()\r\n",
        "plt.show()"
      ],
      "execution_count": 53,
      "outputs": [
        {
          "output_type": "display_data",
          "data": {
            "image/png": "[encoded data removed]",
            "text/plain": [
              "<Figure size 432x432 with 3 Axes>"
            ]
          },
          "metadata": {
            "tags": []
          }
        }
      ]
    },
    {
      "cell_type": "markdown",
      "metadata": {
        "id": "qWgcOo69BlQA"
      },
      "source": [
        "По графику взаимосвязи между количеством посадочных мест и количеством объектов в сети можем сделать вывод, что чем меньшим количеством заведений представлена сеть, тем больше в них посадочных мест. Такие крупные сети, как макдоналдс, шоколадница, кфс, бургер кинг имеют в среднем до 100 посадочных мест."
      ]
    },
    {
      "cell_type": "code",
      "metadata": {
        "colab": {
          "base_uri": "https://localhost:8080/",
          "height": 309
        },
        "id": "kCbaae3eBtJM",
        "outputId": "f11be6a3-7f2f-4529-998e-3d345c2aa030"
      },
      "source": [
        "ax = sns.boxplot(x=chain_yes['number'])\r\n",
        "plt.title('Распределение количества посадочных мест в сетевых заведениях')\r\n",
        "plt.xlabel('количество мест')\r\n",
        "plt.show()"
      ],
      "execution_count": 54,
      "outputs": [
        {
          "output_type": "display_data",
          "data": {
            "image/png": "[encoded data removed]",
            "text/plain": [
              "<Figure size 432x288 with 1 Axes>"
            ]
          },
          "metadata": {
            "tags": []
          }
        }
      ]
    },
    {
      "cell_type": "markdown",
      "metadata": {
        "id": "eIjylp-qB0Pj"
      },
      "source": [
        "### 5. Для каждого вида объекта общественного питания опишите среднее количество посадочных мест. Какой вид предоставляет в среднем самое большое количество посадочных мест? Постройте графики.\r\n",
        "<a id=\"item_5\"></a>"
      ]
    },
    {
      "cell_type": "code",
      "metadata": {
        "colab": {
          "base_uri": "https://localhost:8080/",
          "height": 483
        },
        "id": "CpzhIkXTB3Fr",
        "outputId": "8c11b7eb-cf14-42ca-f55d-163561380caf"
      },
      "source": [
        "fig, ax = plt.subplots(figsize=(9,7))\r\n",
        "ax = sns.boxplot(x='number', y='object_type', data = rest_data, palette = 'Set2')\r\n",
        "ax.set_xlim(-10, 400)\r\n",
        "plt.title('Распределение посадочных мест для каждого типа объекта общепита', fontsize=17, pad=15)\r\n",
        "plt.xlabel('Количество посадочных мест')\r\n",
        "plt.ylabel('Тип заведения')\r\n",
        "plt.show()"
      ],
      "execution_count": 55,
      "outputs": [
        {
          "output_type": "display_data",
          "data": {
            "image/png": "[encoded data removed]",
            "text/plain": [
              "<Figure size 648x504 with 1 Axes>"
            ]
          },
          "metadata": {
            "tags": []
          }
        }
      ]
    },
    {
      "cell_type": "code",
      "metadata": {
        "colab": {
          "base_uri": "https://localhost:8080/"
        },
        "id": "iG2InZdRCGE9",
        "outputId": "41a5c4d6-c321-4ce9-cacf-3487c973552e"
      },
      "source": [
        "rest_data['number'].describe()"
      ],
      "execution_count": 56,
      "outputs": [
        {
          "output_type": "execute_result",
          "data": {
            "text/plain": [
              "count    14359.000000\n",
              "mean        60.747615\n",
              "std         75.656924\n",
              "min          0.000000\n",
              "25%         15.000000\n",
              "50%         40.000000\n",
              "75%         80.000000\n",
              "max       1700.000000\n",
              "Name: number, dtype: float64"
            ]
          },
          "metadata": {
            "tags": []
          },
          "execution_count": 56
        }
      ]
    },
    {
      "cell_type": "code",
      "metadata": {
        "colab": {
          "base_uri": "https://localhost:8080/",
          "height": 485
        },
        "id": "ji6bF1f9CLLH",
        "outputId": "c1153b74-bda9-4280-c407-15a7ceb93237"
      },
      "source": [
        "fig, ax = plt.subplots(figsize=(9,6))\r\n",
        "ax = rest_data.groupby('object_type')['number'].agg('mean').reset_index().sort_values(by='number', ascending=False)\r\n",
        "ax= sns.barplot(x='object_type', y='number', data=ax, palette='twilight_r')\r\n",
        "plt.title('Среднее количество посадочных мест для типов заведений общепита в Москве', fontsize=17, pad=15)\r\n",
        "plt.xlabel('Тип заведения')\r\n",
        "plt.ylabel('Количество посадочных мест')\r\n",
        "plt.xticks(rotation=45)\r\n",
        "plt.show()"
      ],
      "execution_count": 57,
      "outputs": [
        {
          "output_type": "display_data",
          "data": {
            "image/png": "[encoded data removed]",
            "text/plain": [
              "<Figure size 648x432 with 1 Axes>"
            ]
          },
          "metadata": {
            "tags": []
          }
        }
      ]
    },
    {
      "cell_type": "code",
      "metadata": {
        "colab": {
          "base_uri": "https://localhost:8080/",
          "height": 444
        },
        "id": "Yg2VbtzACQ8M",
        "outputId": "1f3c9de0-6c3f-4750-ab16-9e7e328e530e"
      },
      "source": [
        "rest_data[rest_data['object_type'] == 'столовая'].sample(10)"
      ],
      "execution_count": 58,
      "outputs": [
        {
          "output_type": "execute_result",
          "data": {
            "text/html": [
              "<div>\n",
              "<style scoped>\n",
              "    .dataframe tbody tr th:only-of-type {\n",
              "        vertical-align: middle;\n",
              "    }\n",
              "\n",
              "    .dataframe tbody tr th {\n",
              "        vertical-align: top;\n",
              "    }\n",
              "\n",
              "    .dataframe thead th {\n",
              "        text-align: right;\n",
              "    }\n",
              "</style>\n",
              "<table border=\"1\" class=\"dataframe\">\n",
              "  <thead>\n",
              "    <tr style=\"text-align: right;\">\n",
              "      <th></th>\n",
              "      <th>id</th>\n",
              "      <th>object_name</th>\n",
              "      <th>chain</th>\n",
              "      <th>object_type</th>\n",
              "      <th>address</th>\n",
              "      <th>number</th>\n",
              "      <th>address_new</th>\n",
              "    </tr>\n",
              "  </thead>\n",
              "  <tbody>\n",
              "    <tr>\n",
              "      <th>3754</th>\n",
              "      <td>29173</td>\n",
              "      <td>моск. гор. колледж инф-х технологий</td>\n",
              "      <td>нет</td>\n",
              "      <td>столовая</td>\n",
              "      <td>город москва, костомаровская набережная, дом 2...</td>\n",
              "      <td>84</td>\n",
              "      <td>костомаровская набережная, дом 29, строение 1</td>\n",
              "    </tr>\n",
              "    <tr>\n",
              "      <th>2223</th>\n",
              "      <td>27781</td>\n",
              "      <td>престо</td>\n",
              "      <td>нет</td>\n",
              "      <td>столовая</td>\n",
              "      <td>город москва, моховая улица, дом 11, строение 10</td>\n",
              "      <td>40</td>\n",
              "      <td>моховая улица, дом 11, строение 10</td>\n",
              "    </tr>\n",
              "    <tr>\n",
              "      <th>6763</th>\n",
              "      <td>147637</td>\n",
              "      <td>столовая</td>\n",
              "      <td>нет</td>\n",
              "      <td>столовая</td>\n",
              "      <td>город москва, улица кулакова, дом 20, строение 1б</td>\n",
              "      <td>60</td>\n",
              "      <td>улица кулакова, дом 20, строение 1б</td>\n",
              "    </tr>\n",
              "    <tr>\n",
              "      <th>13714</th>\n",
              "      <td>214466</td>\n",
              "      <td>столовая кулинария</td>\n",
              "      <td>нет</td>\n",
              "      <td>столовая</td>\n",
              "      <td>город москва, братиславская улица, дом 14</td>\n",
              "      <td>20</td>\n",
              "      <td>братиславская улица, дом 14</td>\n",
              "    </tr>\n",
              "    <tr>\n",
              "      <th>7271</th>\n",
              "      <td>28965</td>\n",
              "      <td>загорье шк. 902</td>\n",
              "      <td>нет</td>\n",
              "      <td>столовая</td>\n",
              "      <td>город москва, педагогическая улица, дом 3</td>\n",
              "      <td>240</td>\n",
              "      <td>педагогическая улица, дом 3</td>\n",
              "    </tr>\n",
              "    <tr>\n",
              "      <th>2704</th>\n",
              "      <td>21291</td>\n",
              "      <td>столовая лиц. 342</td>\n",
              "      <td>нет</td>\n",
              "      <td>столовая</td>\n",
              "      <td>город москва, маленковская улица, дом 17</td>\n",
              "      <td>100</td>\n",
              "      <td>маленковская улица, дом 17</td>\n",
              "    </tr>\n",
              "    <tr>\n",
              "      <th>14132</th>\n",
              "      <td>222569</td>\n",
              "      <td>столовая</td>\n",
              "      <td>нет</td>\n",
              "      <td>столовая</td>\n",
              "      <td>город москва, улица пришвина, дом 12, корпус 2</td>\n",
              "      <td>40</td>\n",
              "      <td>улица пришвина, дом 12, корпус 2</td>\n",
              "    </tr>\n",
              "    <tr>\n",
              "      <th>10328</th>\n",
              "      <td>190427</td>\n",
              "      <td>столовая</td>\n",
              "      <td>нет</td>\n",
              "      <td>столовая</td>\n",
              "      <td>город москва, краснопрудная улица, дом 7-9</td>\n",
              "      <td>60</td>\n",
              "      <td>краснопрудная улица, дом 7-9</td>\n",
              "    </tr>\n",
              "    <tr>\n",
              "      <th>7160</th>\n",
              "      <td>29191</td>\n",
              "      <td>гоу спо политехнического колледжа им. и.ф. пав...</td>\n",
              "      <td>нет</td>\n",
              "      <td>столовая</td>\n",
              "      <td>город москва, дмитровское шоссе, дом 110</td>\n",
              "      <td>77</td>\n",
              "      <td>дмитровское шоссе, дом 110</td>\n",
              "    </tr>\n",
              "    <tr>\n",
              "      <th>6393</th>\n",
              "      <td>23512</td>\n",
              "      <td>ассорти</td>\n",
              "      <td>нет</td>\n",
              "      <td>столовая</td>\n",
              "      <td>город москва, озёрная улица, дом 46</td>\n",
              "      <td>57</td>\n",
              "      <td>озёрная улица, дом 46</td>\n",
              "    </tr>\n",
              "  </tbody>\n",
              "</table>\n",
              "</div>"
            ],
            "text/plain": [
              "           id  ...                                    address_new\n",
              "3754    29173  ...  костомаровская набережная, дом 29, строение 1\n",
              "2223    27781  ...             моховая улица, дом 11, строение 10\n",
              "6763   147637  ...            улица кулакова, дом 20, строение 1б\n",
              "13714  214466  ...                    братиславская улица, дом 14\n",
              "7271    28965  ...                    педагогическая улица, дом 3\n",
              "2704    21291  ...                     маленковская улица, дом 17\n",
              "14132  222569  ...               улица пришвина, дом 12, корпус 2\n",
              "10328  190427  ...                   краснопрудная улица, дом 7-9\n",
              "7160    29191  ...                     дмитровское шоссе, дом 110\n",
              "6393    23512  ...                          озёрная улица, дом 46\n",
              "\n",
              "[10 rows x 7 columns]"
            ]
          },
          "metadata": {
            "tags": []
          },
          "execution_count": 58
        }
      ]
    },
    {
      "cell_type": "markdown",
      "metadata": {
        "id": "albZeDCnCW7f"
      },
      "source": [
        "Больше всего посадочных мест в столовых и ресторанах. Меньше всего - в закусочных и кулинариях. Среди столовых преобладают столовые при различных учебных заведениях (школах, колледжах, вузах)."
      ]
    },
    {
      "cell_type": "markdown",
      "metadata": {
        "id": "kTCaK9ZZCjHt"
      },
      "source": [
        "### 6. Выделите в отдельный столбец информацию об улице из столбца address .\r\n",
        "<a id=\"item_6\"></a>"
      ]
    },
    {
      "cell_type": "code",
      "metadata": {
        "colab": {
          "base_uri": "https://localhost:8080/",
          "height": 204
        },
        "id": "m7VFf3IdDOkV",
        "outputId": "d98dd7a3-95e7-4d2e-a08f-39400b5bafbe"
      },
      "source": [
        "rest_data.head()"
      ],
      "execution_count": 59,
      "outputs": [
        {
          "output_type": "execute_result",
          "data": {
            "text/html": [
              "<div>\n",
              "<style scoped>\n",
              "    .dataframe tbody tr th:only-of-type {\n",
              "        vertical-align: middle;\n",
              "    }\n",
              "\n",
              "    .dataframe tbody tr th {\n",
              "        vertical-align: top;\n",
              "    }\n",
              "\n",
              "    .dataframe thead th {\n",
              "        text-align: right;\n",
              "    }\n",
              "</style>\n",
              "<table border=\"1\" class=\"dataframe\">\n",
              "  <thead>\n",
              "    <tr style=\"text-align: right;\">\n",
              "      <th></th>\n",
              "      <th>id</th>\n",
              "      <th>object_name</th>\n",
              "      <th>chain</th>\n",
              "      <th>object_type</th>\n",
              "      <th>address</th>\n",
              "      <th>number</th>\n",
              "      <th>address_new</th>\n",
              "    </tr>\n",
              "  </thead>\n",
              "  <tbody>\n",
              "    <tr>\n",
              "      <th>0</th>\n",
              "      <td>151635</td>\n",
              "      <td>сметана</td>\n",
              "      <td>нет</td>\n",
              "      <td>кафе</td>\n",
              "      <td>город москва, улица егора абакумова, дом 9</td>\n",
              "      <td>48</td>\n",
              "      <td>улица егора абакумова, дом 9</td>\n",
              "    </tr>\n",
              "    <tr>\n",
              "      <th>1</th>\n",
              "      <td>77874</td>\n",
              "      <td>родник</td>\n",
              "      <td>нет</td>\n",
              "      <td>кафе</td>\n",
              "      <td>город москва, улица талалихина, дом 2/1, корпус 1</td>\n",
              "      <td>35</td>\n",
              "      <td>улица талалихина, дом 2/1, корпус 1</td>\n",
              "    </tr>\n",
              "    <tr>\n",
              "      <th>2</th>\n",
              "      <td>24309</td>\n",
              "      <td>кафе «академия»</td>\n",
              "      <td>нет</td>\n",
              "      <td>кафе</td>\n",
              "      <td>город москва, абельмановская улица, дом 6</td>\n",
              "      <td>95</td>\n",
              "      <td>абельмановская улица, дом 6</td>\n",
              "    </tr>\n",
              "    <tr>\n",
              "      <th>3</th>\n",
              "      <td>21894</td>\n",
              "      <td>пиццетория</td>\n",
              "      <td>да</td>\n",
              "      <td>кафе</td>\n",
              "      <td>город москва, абрамцевская улица, дом 1</td>\n",
              "      <td>40</td>\n",
              "      <td>абрамцевская улица, дом 1</td>\n",
              "    </tr>\n",
              "    <tr>\n",
              "      <th>4</th>\n",
              "      <td>119365</td>\n",
              "      <td>кафе «вишневая метель»</td>\n",
              "      <td>нет</td>\n",
              "      <td>кафе</td>\n",
              "      <td>город москва, абрамцевская улица, дом 9, корпус 1</td>\n",
              "      <td>50</td>\n",
              "      <td>абрамцевская улица, дом 9, корпус 1</td>\n",
              "    </tr>\n",
              "  </tbody>\n",
              "</table>\n",
              "</div>"
            ],
            "text/plain": [
              "       id             object_name  ... number                          address_new\n",
              "0  151635                 сметана  ...     48         улица егора абакумова, дом 9\n",
              "1   77874                  родник  ...     35  улица талалихина, дом 2/1, корпус 1\n",
              "2   24309         кафе «академия»  ...     95          абельмановская улица, дом 6\n",
              "3   21894              пиццетория  ...     40            абрамцевская улица, дом 1\n",
              "4  119365  кафе «вишневая метель»  ...     50  абрамцевская улица, дом 9, корпус 1\n",
              "\n",
              "[5 rows x 7 columns]"
            ]
          },
          "metadata": {
            "tags": []
          },
          "execution_count": 59
        }
      ]
    },
    {
      "cell_type": "markdown",
      "metadata": {
        "id": "x3SJucz6DTDz"
      },
      "source": [
        "Из столбца \"address_new\" выделим часть строки до запятой, тем самым получим название улицы."
      ]
    },
    {
      "cell_type": "code",
      "metadata": {
        "id": "3K7D4jq3DUhW"
      },
      "source": [
        "rest_data['street'] = rest_data['address_new'].apply(lambda x: x.split(',')[0])"
      ],
      "execution_count": 60,
      "outputs": []
    },
    {
      "cell_type": "code",
      "metadata": {
        "colab": {
          "base_uri": "https://localhost:8080/"
        },
        "id": "QV9a3a-BDZkf",
        "outputId": "2218e8bf-fed0-4ae0-8670-0b0a44bb6942"
      },
      "source": [
        "rest_data['street'].value_counts()"
      ],
      "execution_count": 61,
      "outputs": [
        {
          "output_type": "execute_result",
          "data": {
            "text/plain": [
              "проспект мира             195\n",
              "профсоюзная улица         180\n",
              "ленинградский проспект    172\n",
              "пресненская набережная    165\n",
              "варшавское шоссе          160\n",
              "                         ... \n",
              "зарайская улица             1\n",
              "хлыновский тупик            1\n",
              "учинская улица              1\n",
              "новолучанская улица         1\n",
              "улица кутузова              1\n",
              "Name: street, Length: 1830, dtype: int64"
            ]
          },
          "metadata": {
            "tags": []
          },
          "execution_count": 61
        }
      ]
    },
    {
      "cell_type": "markdown",
      "metadata": {
        "id": "qmylgvB6DmUv"
      },
      "source": [
        "### 7. Постройте график топ-10 улиц по количеству объектов общественного питания. Воспользуйтесь внешней информацией и ответьте на вопрос — в каких районах Москвы находятся эти улицы?\r\n",
        "<a id=\"item_7\"></a>"
      ]
    },
    {
      "cell_type": "code",
      "metadata": {
        "id": "4AZoZcxPDlWX"
      },
      "source": [
        "top_10_streets = rest_data.groupby('street').agg({'id':'count'}).sort_values(by='id', ascending=False).reset_index().head(10)"
      ],
      "execution_count": 62,
      "outputs": []
    },
    {
      "cell_type": "code",
      "metadata": {
        "colab": {
          "base_uri": "https://localhost:8080/",
          "height": 390
        },
        "id": "Yk6pL9-yEAyo",
        "outputId": "aa211eca-5e84-4760-a78e-ad8895dbaca5"
      },
      "source": [
        "fig, ax = plt.subplots(figsize=(9,5))\r\n",
        "ax=sns.barplot(x='id', y='street', data=top_10_streets, palette='inferno')\r\n",
        "plt.xticks(rotation=45)\r\n",
        "plt.title('Топ-10 улиц по количеству объектов общественного питания', fontsize=17, pad=15)\r\n",
        "plt.xlabel('количество объектов')\r\n",
        "plt.ylabel('улица')\r\n",
        "plt.show()"
      ],
      "execution_count": 63,
      "outputs": [
        {
          "output_type": "display_data",
          "data": {
            "image/png": "[encoded data removed]",
            "text/plain": [
              "<Figure size 648x360 with 1 Axes>"
            ]
          },
          "metadata": {
            "tags": []
          }
        }
      ]
    },
    {
      "cell_type": "markdown",
      "metadata": {
        "id": "51sa7r4dEFsZ"
      },
      "source": [
        "По графику видим, что в топ-10 улиц по количеству заведений общепита входят достаточно крупные и длинные улицы Москвы. Расположено на них от 100 до 200 объектов общественного питания."
      ]
    },
    {
      "cell_type": "markdown",
      "metadata": {
        "id": "SvGyOeFLEJZk"
      },
      "source": [
        "Создадим список топ-10 улиц."
      ]
    },
    {
      "cell_type": "code",
      "metadata": {
        "colab": {
          "base_uri": "https://localhost:8080/"
        },
        "id": "J2vTWlTxEK5U",
        "outputId": "573c9653-ea8c-4830-e076-f9a6ffd6f6d4"
      },
      "source": [
        "top_10 = list(top_10_streets['street'])\r\n",
        "top_10"
      ],
      "execution_count": 64,
      "outputs": [
        {
          "output_type": "execute_result",
          "data": {
            "text/plain": [
              "['проспект мира',\n",
              " 'профсоюзная улица',\n",
              " 'ленинградский проспект',\n",
              " 'пресненская набережная',\n",
              " 'варшавское шоссе',\n",
              " 'ленинский проспект',\n",
              " 'проспект вернадского',\n",
              " 'кутузовский проспект',\n",
              " 'каширское шоссе',\n",
              " 'кировоградская улица']"
            ]
          },
          "metadata": {
            "tags": []
          },
          "execution_count": 64
        }
      ]
    },
    {
      "cell_type": "markdown",
      "metadata": {
        "id": "hg6p2pRXESPT"
      },
      "source": [
        "Удалим из адреса все символы"
      ]
    },
    {
      "cell_type": "code",
      "metadata": {
        "id": "FM-UQwrUEVVQ"
      },
      "source": [
        "symbols = [',', '«', '»', '(', ')', '\"', '  ']\r\n",
        "for s in symbols:\r\n",
        "    rest_data['address_new'] = rest_data['address_new'].str.replace(s, ' ')"
      ],
      "execution_count": null,
      "outputs": []
    },
    {
      "cell_type": "markdown",
      "metadata": {
        "id": "ybDcqpvaEYNK"
      },
      "source": [
        "Сделаем срез данных, оставив только те улицы, которые входят в топ-10 по количеству заведений."
      ]
    },
    {
      "cell_type": "code",
      "metadata": {
        "id": "kjonqmVAEbQH"
      },
      "source": [
        "data_top_10_streets = rest_data.query('street in @top_10')"
      ],
      "execution_count": 66,
      "outputs": []
    },
    {
      "cell_type": "code",
      "metadata": {
        "colab": {
          "base_uri": "https://localhost:8080/"
        },
        "id": "3exEKpbzEeK2",
        "outputId": "a102a32c-77ec-4e8f-a468-28d188d0d690"
      },
      "source": [
        "data_top_10_streets['address_new'].value_counts()"
      ],
      "execution_count": 67,
      "outputs": [
        {
          "output_type": "execute_result",
          "data": {
            "text/plain": [
              "пресненская набережная, дом 2                  61\n",
              "проспект мира, дом 211, корпус 2               53\n",
              "кировоградская улица, дом 13а                  52\n",
              "кутузовский проспект, дом 57                   40\n",
              "проспект вернадского, дом 6                    29\n",
              "                                               ..\n",
              "ленинградский проспект, дом 39, строение 41     1\n",
              "ленинский проспект, дом 88, строение 1          1\n",
              "ленинский проспект, дом 2/4                     1\n",
              "проспект мира, дом 108                          1\n",
              "кутузовский проспект, дом 12, строение 9        1\n",
              "Name: address_new, Length: 589, dtype: int64"
            ]
          },
          "metadata": {
            "tags": []
          },
          "execution_count": 67
        }
      ]
    },
    {
      "cell_type": "markdown",
      "metadata": {
        "id": "E6TG_xyGE4U0"
      },
      "source": [
        "Импортируем файл, найденный на портале открытых данных mos.ru с данными об улицах и районах"
      ]
    },
    {
      "cell_type": "code",
      "metadata": {
        "id": "AKaN_HspE8Kr"
      },
      "source": [
        "spreadsheet_id = '1epqv1xZuNxRBkEGKLOLs6OAdNkt0fyPF'\r\n",
        "file_name = 'https://docs.google.com/spreadsheets/d/{}/export?format=xlsx'.format(spreadsheet_id)\r\n",
        "r = requests.get(file_name)\r\n",
        "df_new = pd.read_excel(BytesIO(r.content))"
      ],
      "execution_count": 68,
      "outputs": []
    },
    {
      "cell_type": "code",
      "metadata": {
        "colab": {
          "base_uri": "https://localhost:8080/",
          "height": 204
        },
        "id": "Nb4HlqH3FAT0",
        "outputId": "21ee94b1-931c-4133-d545-8cc380d2e4c6"
      },
      "source": [
        "df_new.head()"
      ],
      "execution_count": 69,
      "outputs": [
        {
          "output_type": "execute_result",
          "data": {
            "text/html": [
              "<div>\n",
              "<style scoped>\n",
              "    .dataframe tbody tr th:only-of-type {\n",
              "        vertical-align: middle;\n",
              "    }\n",
              "\n",
              "    .dataframe tbody tr th {\n",
              "        vertical-align: top;\n",
              "    }\n",
              "\n",
              "    .dataframe thead th {\n",
              "        text-align: right;\n",
              "    }\n",
              "</style>\n",
              "<table border=\"1\" class=\"dataframe\">\n",
              "  <thead>\n",
              "    <tr style=\"text-align: right;\">\n",
              "      <th></th>\n",
              "      <th>ADDRESS</th>\n",
              "      <th>STREET</th>\n",
              "      <th>ADM_AREA</th>\n",
              "      <th>DISTRICT</th>\n",
              "    </tr>\n",
              "  </thead>\n",
              "  <tbody>\n",
              "    <tr>\n",
              "      <th>0</th>\n",
              "      <td>город Москва, Варшавское шоссе, дом 150, строе...</td>\n",
              "      <td>Варшавское шоссе</td>\n",
              "      <td>Южный административный округ</td>\n",
              "      <td>муниципальный округ Чертаново Южное</td>\n",
              "    </tr>\n",
              "    <tr>\n",
              "      <th>1</th>\n",
              "      <td>город Москва, Косинская улица, дом 26А</td>\n",
              "      <td>Косинская улица</td>\n",
              "      <td>Восточный административный округ</td>\n",
              "      <td>муниципальный округ Вешняки</td>\n",
              "    </tr>\n",
              "    <tr>\n",
              "      <th>2</th>\n",
              "      <td>город Москва, Гороховский переулок, дом 21</td>\n",
              "      <td>Гороховский переулок</td>\n",
              "      <td>Центральный административный округ</td>\n",
              "      <td>муниципальный округ Басманный</td>\n",
              "    </tr>\n",
              "    <tr>\n",
              "      <th>3</th>\n",
              "      <td>город Москва, Тагильская улица, дом 4, строени...</td>\n",
              "      <td>Тагильская улица</td>\n",
              "      <td>Восточный административный округ</td>\n",
              "      <td>муниципальный округ Метрогородок</td>\n",
              "    </tr>\n",
              "    <tr>\n",
              "      <th>4</th>\n",
              "      <td>город Москва, Ленинградский проспект, дом 73А,...</td>\n",
              "      <td>Ленинградский проспект</td>\n",
              "      <td>Северный административный округ</td>\n",
              "      <td>муниципальный округ Сокол</td>\n",
              "    </tr>\n",
              "  </tbody>\n",
              "</table>\n",
              "</div>"
            ],
            "text/plain": [
              "                                             ADDRESS  ...                             DISTRICT\n",
              "0  город Москва, Варшавское шоссе, дом 150, строе...  ...  муниципальный округ Чертаново Южное\n",
              "1             город Москва, Косинская улица, дом 26А  ...          муниципальный округ Вешняки\n",
              "2         город Москва, Гороховский переулок, дом 21  ...        муниципальный округ Басманный\n",
              "3  город Москва, Тагильская улица, дом 4, строени...  ...     муниципальный округ Метрогородок\n",
              "4  город Москва, Ленинградский проспект, дом 73А,...  ...            муниципальный округ Сокол\n",
              "\n",
              "[5 rows x 4 columns]"
            ]
          },
          "metadata": {
            "tags": []
          },
          "execution_count": 69
        }
      ]
    },
    {
      "cell_type": "code",
      "metadata": {
        "id": "FLQ-8TmaFMt1"
      },
      "source": [
        "df_new['street'] = df_new['STREET']\r\n",
        "df_new['district'] = df_new['DISTRICT']\r\n",
        "df_new['address'] = df_new['ADDRESS']\r\n",
        "df_new['street'] = df_new['street'].str.lower()\r\n",
        "df_new['district'] = df_new['district'].str.lower()\r\n",
        "df_new['address'] = df_new['address'].str.lower()"
      ],
      "execution_count": 70,
      "outputs": []
    },
    {
      "cell_type": "code",
      "metadata": {
        "colab": {
          "base_uri": "https://localhost:8080/",
          "height": 221
        },
        "id": "SfA6NQzkFPhC",
        "outputId": "4873f065-ce64-4871-ffd1-c165fb2cbabc"
      },
      "source": [
        "rest_data.head()"
      ],
      "execution_count": 71,
      "outputs": [
        {
          "output_type": "execute_result",
          "data": {
            "text/html": [
              "<div>\n",
              "<style scoped>\n",
              "    .dataframe tbody tr th:only-of-type {\n",
              "        vertical-align: middle;\n",
              "    }\n",
              "\n",
              "    .dataframe tbody tr th {\n",
              "        vertical-align: top;\n",
              "    }\n",
              "\n",
              "    .dataframe thead th {\n",
              "        text-align: right;\n",
              "    }\n",
              "</style>\n",
              "<table border=\"1\" class=\"dataframe\">\n",
              "  <thead>\n",
              "    <tr style=\"text-align: right;\">\n",
              "      <th></th>\n",
              "      <th>id</th>\n",
              "      <th>object_name</th>\n",
              "      <th>chain</th>\n",
              "      <th>object_type</th>\n",
              "      <th>address</th>\n",
              "      <th>number</th>\n",
              "      <th>address_new</th>\n",
              "      <th>street</th>\n",
              "    </tr>\n",
              "  </thead>\n",
              "  <tbody>\n",
              "    <tr>\n",
              "      <th>0</th>\n",
              "      <td>151635</td>\n",
              "      <td>сметана</td>\n",
              "      <td>нет</td>\n",
              "      <td>кафе</td>\n",
              "      <td>город москва, улица егора абакумова, дом 9</td>\n",
              "      <td>48</td>\n",
              "      <td>улица егора абакумова, дом 9</td>\n",
              "      <td>улица егора абакумова</td>\n",
              "    </tr>\n",
              "    <tr>\n",
              "      <th>1</th>\n",
              "      <td>77874</td>\n",
              "      <td>родник</td>\n",
              "      <td>нет</td>\n",
              "      <td>кафе</td>\n",
              "      <td>город москва, улица талалихина, дом 2/1, корпус 1</td>\n",
              "      <td>35</td>\n",
              "      <td>улица талалихина, дом 2/1, корпус 1</td>\n",
              "      <td>улица талалихина</td>\n",
              "    </tr>\n",
              "    <tr>\n",
              "      <th>2</th>\n",
              "      <td>24309</td>\n",
              "      <td>кафе «академия»</td>\n",
              "      <td>нет</td>\n",
              "      <td>кафе</td>\n",
              "      <td>город москва, абельмановская улица, дом 6</td>\n",
              "      <td>95</td>\n",
              "      <td>абельмановская улица, дом 6</td>\n",
              "      <td>абельмановская улица</td>\n",
              "    </tr>\n",
              "    <tr>\n",
              "      <th>3</th>\n",
              "      <td>21894</td>\n",
              "      <td>пиццетория</td>\n",
              "      <td>да</td>\n",
              "      <td>кафе</td>\n",
              "      <td>город москва, абрамцевская улица, дом 1</td>\n",
              "      <td>40</td>\n",
              "      <td>абрамцевская улица, дом 1</td>\n",
              "      <td>абрамцевская улица</td>\n",
              "    </tr>\n",
              "    <tr>\n",
              "      <th>4</th>\n",
              "      <td>119365</td>\n",
              "      <td>кафе «вишневая метель»</td>\n",
              "      <td>нет</td>\n",
              "      <td>кафе</td>\n",
              "      <td>город москва, абрамцевская улица, дом 9, корпус 1</td>\n",
              "      <td>50</td>\n",
              "      <td>абрамцевская улица, дом 9, корпус 1</td>\n",
              "      <td>абрамцевская улица</td>\n",
              "    </tr>\n",
              "  </tbody>\n",
              "</table>\n",
              "</div>"
            ],
            "text/plain": [
              "       id  ...                 street\n",
              "0  151635  ...  улица егора абакумова\n",
              "1   77874  ...       улица талалихина\n",
              "2   24309  ...   абельмановская улица\n",
              "3   21894  ...     абрамцевская улица\n",
              "4  119365  ...     абрамцевская улица\n",
              "\n",
              "[5 rows x 8 columns]"
            ]
          },
          "metadata": {
            "tags": []
          },
          "execution_count": 71
        }
      ]
    },
    {
      "cell_type": "code",
      "metadata": {
        "colab": {
          "base_uri": "https://localhost:8080/",
          "height": 204
        },
        "id": "KvJ3tgEAFZqd",
        "outputId": "8b57be11-7175-4535-9ff7-baa3177ce50e"
      },
      "source": [
        "df_new = df_new[['address', 'street', 'district']]\r\n",
        "df_new.head()"
      ],
      "execution_count": 72,
      "outputs": [
        {
          "output_type": "execute_result",
          "data": {
            "text/html": [
              "<div>\n",
              "<style scoped>\n",
              "    .dataframe tbody tr th:only-of-type {\n",
              "        vertical-align: middle;\n",
              "    }\n",
              "\n",
              "    .dataframe tbody tr th {\n",
              "        vertical-align: top;\n",
              "    }\n",
              "\n",
              "    .dataframe thead th {\n",
              "        text-align: right;\n",
              "    }\n",
              "</style>\n",
              "<table border=\"1\" class=\"dataframe\">\n",
              "  <thead>\n",
              "    <tr style=\"text-align: right;\">\n",
              "      <th></th>\n",
              "      <th>address</th>\n",
              "      <th>street</th>\n",
              "      <th>district</th>\n",
              "    </tr>\n",
              "  </thead>\n",
              "  <tbody>\n",
              "    <tr>\n",
              "      <th>0</th>\n",
              "      <td>город москва, варшавское шоссе, дом 150, строе...</td>\n",
              "      <td>варшавское шоссе</td>\n",
              "      <td>муниципальный округ чертаново южное</td>\n",
              "    </tr>\n",
              "    <tr>\n",
              "      <th>1</th>\n",
              "      <td>город москва, косинская улица, дом 26а</td>\n",
              "      <td>косинская улица</td>\n",
              "      <td>муниципальный округ вешняки</td>\n",
              "    </tr>\n",
              "    <tr>\n",
              "      <th>2</th>\n",
              "      <td>город москва, гороховский переулок, дом 21</td>\n",
              "      <td>гороховский переулок</td>\n",
              "      <td>муниципальный округ басманный</td>\n",
              "    </tr>\n",
              "    <tr>\n",
              "      <th>3</th>\n",
              "      <td>город москва, тагильская улица, дом 4, строени...</td>\n",
              "      <td>тагильская улица</td>\n",
              "      <td>муниципальный округ метрогородок</td>\n",
              "    </tr>\n",
              "    <tr>\n",
              "      <th>4</th>\n",
              "      <td>город москва, ленинградский проспект, дом 73а,...</td>\n",
              "      <td>ленинградский проспект</td>\n",
              "      <td>муниципальный округ сокол</td>\n",
              "    </tr>\n",
              "  </tbody>\n",
              "</table>\n",
              "</div>"
            ],
            "text/plain": [
              "                                             address  ...                             district\n",
              "0  город москва, варшавское шоссе, дом 150, строе...  ...  муниципальный округ чертаново южное\n",
              "1             город москва, косинская улица, дом 26а  ...          муниципальный округ вешняки\n",
              "2         город москва, гороховский переулок, дом 21  ...        муниципальный округ басманный\n",
              "3  город москва, тагильская улица, дом 4, строени...  ...     муниципальный округ метрогородок\n",
              "4  город москва, ленинградский проспект, дом 73а,...  ...            муниципальный округ сокол\n",
              "\n",
              "[5 rows x 3 columns]"
            ]
          },
          "metadata": {
            "tags": []
          },
          "execution_count": 72
        }
      ]
    },
    {
      "cell_type": "code",
      "metadata": {
        "id": "MbwE4pnQFe2X"
      },
      "source": [
        "moscow_data = df_new.merge(rest_data, on=['address', 'street'], how='right').drop_duplicates()"
      ],
      "execution_count": 73,
      "outputs": []
    },
    {
      "cell_type": "code",
      "metadata": {
        "colab": {
          "base_uri": "https://localhost:8080/",
          "height": 529
        },
        "id": "3NhPxiccFibZ",
        "outputId": "07ebbb7e-65f7-4981-c0fe-0fbb039a4eca"
      },
      "source": [
        "moscow_data.head(10)"
      ],
      "execution_count": 74,
      "outputs": [
        {
          "output_type": "execute_result",
          "data": {
            "text/html": [
              "<div>\n",
              "<style scoped>\n",
              "    .dataframe tbody tr th:only-of-type {\n",
              "        vertical-align: middle;\n",
              "    }\n",
              "\n",
              "    .dataframe tbody tr th {\n",
              "        vertical-align: top;\n",
              "    }\n",
              "\n",
              "    .dataframe thead th {\n",
              "        text-align: right;\n",
              "    }\n",
              "</style>\n",
              "<table border=\"1\" class=\"dataframe\">\n",
              "  <thead>\n",
              "    <tr style=\"text-align: right;\">\n",
              "      <th></th>\n",
              "      <th>address</th>\n",
              "      <th>street</th>\n",
              "      <th>district</th>\n",
              "      <th>id</th>\n",
              "      <th>object_name</th>\n",
              "      <th>chain</th>\n",
              "      <th>object_type</th>\n",
              "      <th>number</th>\n",
              "      <th>address_new</th>\n",
              "    </tr>\n",
              "  </thead>\n",
              "  <tbody>\n",
              "    <tr>\n",
              "      <th>0</th>\n",
              "      <td>город москва, улица егора абакумова, дом 9</td>\n",
              "      <td>улица егора абакумова</td>\n",
              "      <td>муниципальный округ ярославский</td>\n",
              "      <td>151635</td>\n",
              "      <td>сметана</td>\n",
              "      <td>нет</td>\n",
              "      <td>кафе</td>\n",
              "      <td>48</td>\n",
              "      <td>улица егора абакумова, дом 9</td>\n",
              "    </tr>\n",
              "    <tr>\n",
              "      <th>1</th>\n",
              "      <td>город москва, улица талалихина, дом 2/1, корпус 1</td>\n",
              "      <td>улица талалихина</td>\n",
              "      <td>муниципальный округ таганский</td>\n",
              "      <td>77874</td>\n",
              "      <td>родник</td>\n",
              "      <td>нет</td>\n",
              "      <td>кафе</td>\n",
              "      <td>35</td>\n",
              "      <td>улица талалихина, дом 2/1, корпус 1</td>\n",
              "    </tr>\n",
              "    <tr>\n",
              "      <th>2</th>\n",
              "      <td>город москва, абельмановская улица, дом 6</td>\n",
              "      <td>абельмановская улица</td>\n",
              "      <td>муниципальный округ таганский</td>\n",
              "      <td>24309</td>\n",
              "      <td>кафе «академия»</td>\n",
              "      <td>нет</td>\n",
              "      <td>кафе</td>\n",
              "      <td>95</td>\n",
              "      <td>абельмановская улица, дом 6</td>\n",
              "    </tr>\n",
              "    <tr>\n",
              "      <th>3</th>\n",
              "      <td>город москва, абрамцевская улица, дом 1</td>\n",
              "      <td>абрамцевская улица</td>\n",
              "      <td>муниципальный округ лианозово</td>\n",
              "      <td>21894</td>\n",
              "      <td>пиццетория</td>\n",
              "      <td>да</td>\n",
              "      <td>кафе</td>\n",
              "      <td>40</td>\n",
              "      <td>абрамцевская улица, дом 1</td>\n",
              "    </tr>\n",
              "    <tr>\n",
              "      <th>4</th>\n",
              "      <td>город москва, абрамцевская улица, дом 9, корпус 1</td>\n",
              "      <td>абрамцевская улица</td>\n",
              "      <td>муниципальный округ лианозово</td>\n",
              "      <td>119365</td>\n",
              "      <td>кафе «вишневая метель»</td>\n",
              "      <td>нет</td>\n",
              "      <td>кафе</td>\n",
              "      <td>50</td>\n",
              "      <td>абрамцевская улица, дом 9, корпус 1</td>\n",
              "    </tr>\n",
              "    <tr>\n",
              "      <th>5</th>\n",
              "      <td>город москва, абрамцевская улица, дом 9, корпус 1</td>\n",
              "      <td>абрамцевская улица</td>\n",
              "      <td>муниципальный округ лианозово</td>\n",
              "      <td>199543</td>\n",
              "      <td>шаурма, выпечка</td>\n",
              "      <td>нет</td>\n",
              "      <td>фаст-фуд</td>\n",
              "      <td>0</td>\n",
              "      <td>абрамцевская улица, дом 9, корпус 1</td>\n",
              "    </tr>\n",
              "    <tr>\n",
              "      <th>6</th>\n",
              "      <td>город москва, абрамцевская улица, дом 15, корп...</td>\n",
              "      <td>абрамцевская улица</td>\n",
              "      <td>муниципальный округ лианозово</td>\n",
              "      <td>27429</td>\n",
              "      <td>стол. при гоу сош № 1051</td>\n",
              "      <td>нет</td>\n",
              "      <td>столовая</td>\n",
              "      <td>240</td>\n",
              "      <td>абрамцевская улица, дом 15, корпус 1</td>\n",
              "    </tr>\n",
              "    <tr>\n",
              "      <th>7</th>\n",
              "      <td>город москва, переулок сивцев вражек, дом 6/2</td>\n",
              "      <td>переулок сивцев вражек</td>\n",
              "      <td>муниципальный округ арбат</td>\n",
              "      <td>148815</td>\n",
              "      <td>брусника</td>\n",
              "      <td>да</td>\n",
              "      <td>кафе</td>\n",
              "      <td>10</td>\n",
              "      <td>переулок сивцев вражек, дом 6/2</td>\n",
              "    </tr>\n",
              "    <tr>\n",
              "      <th>8</th>\n",
              "      <td>город москва, авиамоторная улица, дом 8, строе...</td>\n",
              "      <td>авиамоторная улица</td>\n",
              "      <td>муниципальный округ лефортово</td>\n",
              "      <td>20957</td>\n",
              "      <td>буфет мтуси</td>\n",
              "      <td>нет</td>\n",
              "      <td>столовая</td>\n",
              "      <td>90</td>\n",
              "      <td>авиамоторная улица, дом 8, строение 1</td>\n",
              "    </tr>\n",
              "    <tr>\n",
              "      <th>9</th>\n",
              "      <td>город москва, авиамоторная улица, дом 8, строе...</td>\n",
              "      <td>авиамоторная улица</td>\n",
              "      <td>муниципальный округ лефортово</td>\n",
              "      <td>20958</td>\n",
              "      <td>кпф семья-1</td>\n",
              "      <td>нет</td>\n",
              "      <td>столовая</td>\n",
              "      <td>150</td>\n",
              "      <td>авиамоторная улица, дом 8, строение 1</td>\n",
              "    </tr>\n",
              "  </tbody>\n",
              "</table>\n",
              "</div>"
            ],
            "text/plain": [
              "                                             address  ...                            address_new\n",
              "0         город москва, улица егора абакумова, дом 9  ...           улица егора абакумова, дом 9\n",
              "1  город москва, улица талалихина, дом 2/1, корпус 1  ...    улица талалихина, дом 2/1, корпус 1\n",
              "2          город москва, абельмановская улица, дом 6  ...            абельмановская улица, дом 6\n",
              "3            город москва, абрамцевская улица, дом 1  ...              абрамцевская улица, дом 1\n",
              "4  город москва, абрамцевская улица, дом 9, корпус 1  ...    абрамцевская улица, дом 9, корпус 1\n",
              "5  город москва, абрамцевская улица, дом 9, корпус 1  ...    абрамцевская улица, дом 9, корпус 1\n",
              "6  город москва, абрамцевская улица, дом 15, корп...  ...   абрамцевская улица, дом 15, корпус 1\n",
              "7      город москва, переулок сивцев вражек, дом 6/2  ...        переулок сивцев вражек, дом 6/2\n",
              "8  город москва, авиамоторная улица, дом 8, строе...  ...  авиамоторная улица, дом 8, строение 1\n",
              "9  город москва, авиамоторная улица, дом 8, строе...  ...  авиамоторная улица, дом 8, строение 1\n",
              "\n",
              "[10 rows x 9 columns]"
            ]
          },
          "metadata": {
            "tags": []
          },
          "execution_count": 74
        }
      ]
    },
    {
      "cell_type": "code",
      "metadata": {
        "id": "qjfxb8J7FmSi"
      },
      "source": [
        "df_top = moscow_data.query('street in @top_10') # сделаем срез новой таблицы только для тех улиц, которые входят в топ-10"
      ],
      "execution_count": 75,
      "outputs": []
    },
    {
      "cell_type": "code",
      "metadata": {
        "colab": {
          "base_uri": "https://localhost:8080/",
          "height": 289
        },
        "id": "ilh1r14IFqi2",
        "outputId": "0a94b28b-1b88-4417-9ecd-b10fae67101e"
      },
      "source": [
        "df_top.head()"
      ],
      "execution_count": 76,
      "outputs": [
        {
          "output_type": "execute_result",
          "data": {
            "text/html": [
              "<div>\n",
              "<style scoped>\n",
              "    .dataframe tbody tr th:only-of-type {\n",
              "        vertical-align: middle;\n",
              "    }\n",
              "\n",
              "    .dataframe tbody tr th {\n",
              "        vertical-align: top;\n",
              "    }\n",
              "\n",
              "    .dataframe thead th {\n",
              "        text-align: right;\n",
              "    }\n",
              "</style>\n",
              "<table border=\"1\" class=\"dataframe\">\n",
              "  <thead>\n",
              "    <tr style=\"text-align: right;\">\n",
              "      <th></th>\n",
              "      <th>address</th>\n",
              "      <th>street</th>\n",
              "      <th>district</th>\n",
              "      <th>id</th>\n",
              "      <th>object_name</th>\n",
              "      <th>chain</th>\n",
              "      <th>object_type</th>\n",
              "      <th>number</th>\n",
              "      <th>address_new</th>\n",
              "    </tr>\n",
              "  </thead>\n",
              "  <tbody>\n",
              "    <tr>\n",
              "      <th>174</th>\n",
              "      <td>город москва, варшавское шоссе, дом 2</td>\n",
              "      <td>варшавское шоссе</td>\n",
              "      <td>муниципальный округ донской</td>\n",
              "      <td>155973</td>\n",
              "      <td>кафе «андерсон»</td>\n",
              "      <td>да</td>\n",
              "      <td>кафе</td>\n",
              "      <td>150</td>\n",
              "      <td>варшавское шоссе, дом 2</td>\n",
              "    </tr>\n",
              "    <tr>\n",
              "      <th>175</th>\n",
              "      <td>город москва, варшавское шоссе, дом 2</td>\n",
              "      <td>варшавское шоссе</td>\n",
              "      <td>муниципальный округ донской</td>\n",
              "      <td>204776</td>\n",
              "      <td>кальян бар</td>\n",
              "      <td>нет</td>\n",
              "      <td>бар</td>\n",
              "      <td>24</td>\n",
              "      <td>варшавское шоссе, дом 2</td>\n",
              "    </tr>\n",
              "    <tr>\n",
              "      <th>176</th>\n",
              "      <td>город москва, варшавское шоссе, дом 7, корпус 1</td>\n",
              "      <td>варшавское шоссе</td>\n",
              "      <td>муниципальный округ донской</td>\n",
              "      <td>23618</td>\n",
              "      <td>кафе «subway»</td>\n",
              "      <td>да</td>\n",
              "      <td>кафе</td>\n",
              "      <td>36</td>\n",
              "      <td>варшавское шоссе, дом 7, корпус 1</td>\n",
              "    </tr>\n",
              "    <tr>\n",
              "      <th>177</th>\n",
              "      <td>город москва, варшавское шоссе, дом 7, корпус 1</td>\n",
              "      <td>варшавское шоссе</td>\n",
              "      <td>муниципальный округ донской</td>\n",
              "      <td>166556</td>\n",
              "      <td>кафе суши wok</td>\n",
              "      <td>да</td>\n",
              "      <td>фаст-фуд</td>\n",
              "      <td>8</td>\n",
              "      <td>варшавское шоссе, дом 7, корпус 1</td>\n",
              "    </tr>\n",
              "    <tr>\n",
              "      <th>178</th>\n",
              "      <td>город москва, варшавское шоссе, дом 7, корпус 1</td>\n",
              "      <td>варшавское шоссе</td>\n",
              "      <td>муниципальный округ донской</td>\n",
              "      <td>181111</td>\n",
              "      <td>кафе «doner city»</td>\n",
              "      <td>нет</td>\n",
              "      <td>фаст-фуд</td>\n",
              "      <td>1</td>\n",
              "      <td>варшавское шоссе, дом 7, корпус 1</td>\n",
              "    </tr>\n",
              "  </tbody>\n",
              "</table>\n",
              "</div>"
            ],
            "text/plain": [
              "                                             address  ...                        address_new\n",
              "174            город москва, варшавское шоссе, дом 2  ...            варшавское шоссе, дом 2\n",
              "175            город москва, варшавское шоссе, дом 2  ...            варшавское шоссе, дом 2\n",
              "176  город москва, варшавское шоссе, дом 7, корпус 1  ...  варшавское шоссе, дом 7, корпус 1\n",
              "177  город москва, варшавское шоссе, дом 7, корпус 1  ...  варшавское шоссе, дом 7, корпус 1\n",
              "178  город москва, варшавское шоссе, дом 7, корпус 1  ...  варшавское шоссе, дом 7, корпус 1\n",
              "\n",
              "[5 rows x 9 columns]"
            ]
          },
          "metadata": {
            "tags": []
          },
          "execution_count": 76
        }
      ]
    },
    {
      "cell_type": "code",
      "metadata": {
        "colab": {
          "base_uri": "https://localhost:8080/",
          "height": 1000
        },
        "id": "iDe9EYAWFuOk",
        "outputId": "a74fc568-6776-485e-832c-28af7e780ca8"
      },
      "source": [
        "streets_grouped = df_top.groupby(['street', 'district']).agg({'id':'count'})\r\n",
        "streets_grouped.style.background_gradient(cmap='inferno')"
      ],
      "execution_count": 77,
      "outputs": [
        {
          "output_type": "execute_result",
          "data": {
            "text/html": [
              "<style  type=\"text/css\" >\n",
              "#T_c06eabb0_4c63_11eb_ae61_0242ac1c0002row0_col0,#T_c06eabb0_4c63_11eb_ae61_0242ac1c0002row41_col0,#T_c06eabb0_4c63_11eb_ae61_0242ac1c0002row44_col0{\n",
              "            background-color:  #440a68;\n",
              "            color:  #f1f1f1;\n",
              "        }#T_c06eabb0_4c63_11eb_ae61_0242ac1c0002row1_col0{\n",
              "            background-color:  #060419;\n",
              "            color:  #f1f1f1;\n",
              "        }#T_c06eabb0_4c63_11eb_ae61_0242ac1c0002row2_col0,#T_c06eabb0_4c63_11eb_ae61_0242ac1c0002row7_col0,#T_c06eabb0_4c63_11eb_ae61_0242ac1c0002row43_col0{\n",
              "            background-color:  #540f6d;\n",
              "            color:  #f1f1f1;\n",
              "        }#T_c06eabb0_4c63_11eb_ae61_0242ac1c0002row3_col0{\n",
              "            background-color:  #230c4c;\n",
              "            color:  #f1f1f1;\n",
              "        }#T_c06eabb0_4c63_11eb_ae61_0242ac1c0002row4_col0{\n",
              "            background-color:  #0e092b;\n",
              "            color:  #f1f1f1;\n",
              "        }#T_c06eabb0_4c63_11eb_ae61_0242ac1c0002row5_col0{\n",
              "            background-color:  #4c0c6b;\n",
              "            color:  #f1f1f1;\n",
              "        }#T_c06eabb0_4c63_11eb_ae61_0242ac1c0002row6_col0,#T_c06eabb0_4c63_11eb_ae61_0242ac1c0002row24_col0{\n",
              "            background-color:  #010005;\n",
              "            color:  #f1f1f1;\n",
              "        }#T_c06eabb0_4c63_11eb_ae61_0242ac1c0002row8_col0{\n",
              "            background-color:  #67166e;\n",
              "            color:  #f1f1f1;\n",
              "        }#T_c06eabb0_4c63_11eb_ae61_0242ac1c0002row9_col0,#T_c06eabb0_4c63_11eb_ae61_0242ac1c0002row21_col0,#T_c06eabb0_4c63_11eb_ae61_0242ac1c0002row30_col0,#T_c06eabb0_4c63_11eb_ae61_0242ac1c0002row45_col0{\n",
              "            background-color:  #10092d;\n",
              "            color:  #f1f1f1;\n",
              "        }#T_c06eabb0_4c63_11eb_ae61_0242ac1c0002row10_col0{\n",
              "            background-color:  #030210;\n",
              "            color:  #f1f1f1;\n",
              "        }#T_c06eabb0_4c63_11eb_ae61_0242ac1c0002row11_col0{\n",
              "            background-color:  #1f0c48;\n",
              "            color:  #f1f1f1;\n",
              "        }#T_c06eabb0_4c63_11eb_ae61_0242ac1c0002row12_col0{\n",
              "            background-color:  #ae305c;\n",
              "            color:  #f1f1f1;\n",
              "        }#T_c06eabb0_4c63_11eb_ae61_0242ac1c0002row13_col0,#T_c06eabb0_4c63_11eb_ae61_0242ac1c0002row37_col0{\n",
              "            background-color:  #040314;\n",
              "            color:  #f1f1f1;\n",
              "        }#T_c06eabb0_4c63_11eb_ae61_0242ac1c0002row14_col0{\n",
              "            background-color:  #88226a;\n",
              "            color:  #f1f1f1;\n",
              "        }#T_c06eabb0_4c63_11eb_ae61_0242ac1c0002row15_col0{\n",
              "            background-color:  #741a6e;\n",
              "            color:  #f1f1f1;\n",
              "        }#T_c06eabb0_4c63_11eb_ae61_0242ac1c0002row16_col0,#T_c06eabb0_4c63_11eb_ae61_0242ac1c0002row33_col0{\n",
              "            background-color:  #902568;\n",
              "            color:  #f1f1f1;\n",
              "        }#T_c06eabb0_4c63_11eb_ae61_0242ac1c0002row17_col0{\n",
              "            background-color:  #6f196e;\n",
              "            color:  #f1f1f1;\n",
              "        }#T_c06eabb0_4c63_11eb_ae61_0242ac1c0002row18_col0{\n",
              "            background-color:  #280b53;\n",
              "            color:  #f1f1f1;\n",
              "        }#T_c06eabb0_4c63_11eb_ae61_0242ac1c0002row19_col0,#T_c06eabb0_4c63_11eb_ae61_0242ac1c0002row32_col0{\n",
              "            background-color:  #3b0964;\n",
              "            color:  #f1f1f1;\n",
              "        }#T_c06eabb0_4c63_11eb_ae61_0242ac1c0002row20_col0{\n",
              "            background-color:  #510e6c;\n",
              "            color:  #f1f1f1;\n",
              "        }#T_c06eabb0_4c63_11eb_ae61_0242ac1c0002row22_col0{\n",
              "            background-color:  #0c0826;\n",
              "            color:  #f1f1f1;\n",
              "        }#T_c06eabb0_4c63_11eb_ae61_0242ac1c0002row23_col0,#T_c06eabb0_4c63_11eb_ae61_0242ac1c0002row42_col0{\n",
              "            background-color:  #3e0966;\n",
              "            color:  #f1f1f1;\n",
              "        }#T_c06eabb0_4c63_11eb_ae61_0242ac1c0002row25_col0{\n",
              "            background-color:  #010108;\n",
              "            color:  #f1f1f1;\n",
              "        }#T_c06eabb0_4c63_11eb_ae61_0242ac1c0002row26_col0{\n",
              "            background-color:  #1e0c45;\n",
              "            color:  #f1f1f1;\n",
              "        }#T_c06eabb0_4c63_11eb_ae61_0242ac1c0002row27_col0,#T_c06eabb0_4c63_11eb_ae61_0242ac1c0002row40_col0{\n",
              "            background-color:  #2b0b57;\n",
              "            color:  #f1f1f1;\n",
              "        }#T_c06eabb0_4c63_11eb_ae61_0242ac1c0002row28_col0{\n",
              "            background-color:  #fcffa4;\n",
              "            color:  #000000;\n",
              "        }#T_c06eabb0_4c63_11eb_ae61_0242ac1c0002row29_col0,#T_c06eabb0_4c63_11eb_ae61_0242ac1c0002row39_col0{\n",
              "            background-color:  #000004;\n",
              "            color:  #f1f1f1;\n",
              "        }#T_c06eabb0_4c63_11eb_ae61_0242ac1c0002row31_col0{\n",
              "            background-color:  #140b34;\n",
              "            color:  #f1f1f1;\n",
              "        }#T_c06eabb0_4c63_11eb_ae61_0242ac1c0002row34_col0{\n",
              "            background-color:  #6a176e;\n",
              "            color:  #f1f1f1;\n",
              "        }#T_c06eabb0_4c63_11eb_ae61_0242ac1c0002row35_col0{\n",
              "            background-color:  #8d2369;\n",
              "            color:  #f1f1f1;\n",
              "        }#T_c06eabb0_4c63_11eb_ae61_0242ac1c0002row36_col0{\n",
              "            background-color:  #1b0c41;\n",
              "            color:  #f1f1f1;\n",
              "        }#T_c06eabb0_4c63_11eb_ae61_0242ac1c0002row38_col0{\n",
              "            background-color:  #781c6d;\n",
              "            color:  #f1f1f1;\n",
              "        }</style><table id=\"T_c06eabb0_4c63_11eb_ae61_0242ac1c0002\" ><thead>    <tr>        <th class=\"blank\" ></th>        <th class=\"blank level0\" ></th>        <th class=\"col_heading level0 col0\" >id</th>    </tr>    <tr>        <th class=\"index_name level0\" >street</th>        <th class=\"index_name level1\" >district</th>        <th class=\"blank\" ></th>    </tr></thead><tbody>\n",
              "                <tr>\n",
              "                        <th id=\"T_c06eabb0_4c63_11eb_ae61_0242ac1c0002level0_row0\" class=\"row_heading level0 row0\" rowspan=7>варшавское шоссе</th>\n",
              "                        <th id=\"T_c06eabb0_4c63_11eb_ae61_0242ac1c0002level1_row0\" class=\"row_heading level1 row0\" >муниципальный округ донской</th>\n",
              "                        <td id=\"T_c06eabb0_4c63_11eb_ae61_0242ac1c0002row0_col0\" class=\"data row0 col0\" >34</td>\n",
              "            </tr>\n",
              "            <tr>\n",
              "                                <th id=\"T_c06eabb0_4c63_11eb_ae61_0242ac1c0002level1_row1\" class=\"row_heading level1 row1\" >муниципальный округ нагатино-садовники</th>\n",
              "                        <td id=\"T_c06eabb0_4c63_11eb_ae61_0242ac1c0002row1_col0\" class=\"data row1 col0\" >8</td>\n",
              "            </tr>\n",
              "            <tr>\n",
              "                                <th id=\"T_c06eabb0_4c63_11eb_ae61_0242ac1c0002level1_row2\" class=\"row_heading level1 row2\" >муниципальный округ нагорный</th>\n",
              "                        <td id=\"T_c06eabb0_4c63_11eb_ae61_0242ac1c0002row2_col0\" class=\"data row2 col0\" >40</td>\n",
              "            </tr>\n",
              "            <tr>\n",
              "                                <th id=\"T_c06eabb0_4c63_11eb_ae61_0242ac1c0002level1_row3\" class=\"row_heading level1 row3\" >муниципальный округ чертаново северное</th>\n",
              "                        <td id=\"T_c06eabb0_4c63_11eb_ae61_0242ac1c0002row3_col0\" class=\"data row3 col0\" >22</td>\n",
              "            </tr>\n",
              "            <tr>\n",
              "                                <th id=\"T_c06eabb0_4c63_11eb_ae61_0242ac1c0002level1_row4\" class=\"row_heading level1 row4\" >муниципальный округ чертаново центральное</th>\n",
              "                        <td id=\"T_c06eabb0_4c63_11eb_ae61_0242ac1c0002row4_col0\" class=\"data row4 col0\" >13</td>\n",
              "            </tr>\n",
              "            <tr>\n",
              "                                <th id=\"T_c06eabb0_4c63_11eb_ae61_0242ac1c0002level1_row5\" class=\"row_heading level1 row5\" >муниципальный округ чертаново южное</th>\n",
              "                        <td id=\"T_c06eabb0_4c63_11eb_ae61_0242ac1c0002row5_col0\" class=\"data row5 col0\" >37</td>\n",
              "            </tr>\n",
              "            <tr>\n",
              "                                <th id=\"T_c06eabb0_4c63_11eb_ae61_0242ac1c0002level1_row6\" class=\"row_heading level1 row6\" >муниципальный округ южное бутово</th>\n",
              "                        <td id=\"T_c06eabb0_4c63_11eb_ae61_0242ac1c0002row6_col0\" class=\"data row6 col0\" >2</td>\n",
              "            </tr>\n",
              "            <tr>\n",
              "                        <th id=\"T_c06eabb0_4c63_11eb_ae61_0242ac1c0002level0_row7\" class=\"row_heading level0 row7\" rowspan=4>каширское шоссе</th>\n",
              "                        <th id=\"T_c06eabb0_4c63_11eb_ae61_0242ac1c0002level1_row7\" class=\"row_heading level1 row7\" >муниципальный округ москворечье-сабурово</th>\n",
              "                        <td id=\"T_c06eabb0_4c63_11eb_ae61_0242ac1c0002row7_col0\" class=\"data row7 col0\" >40</td>\n",
              "            </tr>\n",
              "            <tr>\n",
              "                                <th id=\"T_c06eabb0_4c63_11eb_ae61_0242ac1c0002level1_row8\" class=\"row_heading level1 row8\" >муниципальный округ нагатино-садовники</th>\n",
              "                        <td id=\"T_c06eabb0_4c63_11eb_ae61_0242ac1c0002row8_col0\" class=\"data row8 col0\" >48</td>\n",
              "            </tr>\n",
              "            <tr>\n",
              "                                <th id=\"T_c06eabb0_4c63_11eb_ae61_0242ac1c0002level1_row9\" class=\"row_heading level1 row9\" >муниципальный округ орехово-борисово северное</th>\n",
              "                        <td id=\"T_c06eabb0_4c63_11eb_ae61_0242ac1c0002row9_col0\" class=\"data row9 col0\" >14</td>\n",
              "            </tr>\n",
              "            <tr>\n",
              "                                <th id=\"T_c06eabb0_4c63_11eb_ae61_0242ac1c0002level1_row10\" class=\"row_heading level1 row10\" >муниципальный округ орехово-борисово южное</th>\n",
              "                        <td id=\"T_c06eabb0_4c63_11eb_ae61_0242ac1c0002row10_col0\" class=\"data row10 col0\" >6</td>\n",
              "            </tr>\n",
              "            <tr>\n",
              "                        <th id=\"T_c06eabb0_4c63_11eb_ae61_0242ac1c0002level0_row11\" class=\"row_heading level0 row11\" rowspan=3>кировоградская улица</th>\n",
              "                        <th id=\"T_c06eabb0_4c63_11eb_ae61_0242ac1c0002level1_row11\" class=\"row_heading level1 row11\" >муниципальный округ чертаново северное</th>\n",
              "                        <td id=\"T_c06eabb0_4c63_11eb_ae61_0242ac1c0002row11_col0\" class=\"data row11 col0\" >21</td>\n",
              "            </tr>\n",
              "            <tr>\n",
              "                                <th id=\"T_c06eabb0_4c63_11eb_ae61_0242ac1c0002level1_row12\" class=\"row_heading level1 row12\" >муниципальный округ чертаново центральное</th>\n",
              "                        <td id=\"T_c06eabb0_4c63_11eb_ae61_0242ac1c0002row12_col0\" class=\"data row12 col0\" >76</td>\n",
              "            </tr>\n",
              "            <tr>\n",
              "                                <th id=\"T_c06eabb0_4c63_11eb_ae61_0242ac1c0002level1_row13\" class=\"row_heading level1 row13\" >муниципальный округ чертаново южное</th>\n",
              "                        <td id=\"T_c06eabb0_4c63_11eb_ae61_0242ac1c0002row13_col0\" class=\"data row13 col0\" >7</td>\n",
              "            </tr>\n",
              "            <tr>\n",
              "                        <th id=\"T_c06eabb0_4c63_11eb_ae61_0242ac1c0002level0_row14\" class=\"row_heading level0 row14\" rowspan=2>кутузовский проспект</th>\n",
              "                        <th id=\"T_c06eabb0_4c63_11eb_ae61_0242ac1c0002level1_row14\" class=\"row_heading level1 row14\" >муниципальный округ дорогомилово</th>\n",
              "                        <td id=\"T_c06eabb0_4c63_11eb_ae61_0242ac1c0002row14_col0\" class=\"data row14 col0\" >61</td>\n",
              "            </tr>\n",
              "            <tr>\n",
              "                                <th id=\"T_c06eabb0_4c63_11eb_ae61_0242ac1c0002level1_row15\" class=\"row_heading level1 row15\" >муниципальный округ фили-давыдково</th>\n",
              "                        <td id=\"T_c06eabb0_4c63_11eb_ae61_0242ac1c0002row15_col0\" class=\"data row15 col0\" >53</td>\n",
              "            </tr>\n",
              "            <tr>\n",
              "                        <th id=\"T_c06eabb0_4c63_11eb_ae61_0242ac1c0002level0_row16\" class=\"row_heading level0 row16\" rowspan=4>ленинградский проспект</th>\n",
              "                        <th id=\"T_c06eabb0_4c63_11eb_ae61_0242ac1c0002level1_row16\" class=\"row_heading level1 row16\" >муниципальный округ аэропорт</th>\n",
              "                        <td id=\"T_c06eabb0_4c63_11eb_ae61_0242ac1c0002row16_col0\" class=\"data row16 col0\" >64</td>\n",
              "            </tr>\n",
              "            <tr>\n",
              "                                <th id=\"T_c06eabb0_4c63_11eb_ae61_0242ac1c0002level1_row17\" class=\"row_heading level1 row17\" >муниципальный округ беговой</th>\n",
              "                        <td id=\"T_c06eabb0_4c63_11eb_ae61_0242ac1c0002row17_col0\" class=\"data row17 col0\" >51</td>\n",
              "            </tr>\n",
              "            <tr>\n",
              "                                <th id=\"T_c06eabb0_4c63_11eb_ae61_0242ac1c0002level1_row18\" class=\"row_heading level1 row18\" >муниципальный округ сокол</th>\n",
              "                        <td id=\"T_c06eabb0_4c63_11eb_ae61_0242ac1c0002row18_col0\" class=\"data row18 col0\" >24</td>\n",
              "            </tr>\n",
              "            <tr>\n",
              "                                <th id=\"T_c06eabb0_4c63_11eb_ae61_0242ac1c0002level1_row19\" class=\"row_heading level1 row19\" >муниципальный округ хорошевский</th>\n",
              "                        <td id=\"T_c06eabb0_4c63_11eb_ae61_0242ac1c0002row19_col0\" class=\"data row19 col0\" >31</td>\n",
              "            </tr>\n",
              "            <tr>\n",
              "                        <th id=\"T_c06eabb0_4c63_11eb_ae61_0242ac1c0002level0_row20\" class=\"row_heading level0 row20\" rowspan=8>ленинский проспект</th>\n",
              "                        <th id=\"T_c06eabb0_4c63_11eb_ae61_0242ac1c0002level1_row20\" class=\"row_heading level1 row20\" >муниципальный округ гагаринский</th>\n",
              "                        <td id=\"T_c06eabb0_4c63_11eb_ae61_0242ac1c0002row20_col0\" class=\"data row20 col0\" >39</td>\n",
              "            </tr>\n",
              "            <tr>\n",
              "                                <th id=\"T_c06eabb0_4c63_11eb_ae61_0242ac1c0002level1_row21\" class=\"row_heading level1 row21\" >муниципальный округ донской</th>\n",
              "                        <td id=\"T_c06eabb0_4c63_11eb_ae61_0242ac1c0002row21_col0\" class=\"data row21 col0\" >14</td>\n",
              "            </tr>\n",
              "            <tr>\n",
              "                                <th id=\"T_c06eabb0_4c63_11eb_ae61_0242ac1c0002level1_row22\" class=\"row_heading level1 row22\" >муниципальный округ ломоносовский</th>\n",
              "                        <td id=\"T_c06eabb0_4c63_11eb_ae61_0242ac1c0002row22_col0\" class=\"data row22 col0\" >12</td>\n",
              "            </tr>\n",
              "            <tr>\n",
              "                                <th id=\"T_c06eabb0_4c63_11eb_ae61_0242ac1c0002level1_row23\" class=\"row_heading level1 row23\" >муниципальный округ обручевский</th>\n",
              "                        <td id=\"T_c06eabb0_4c63_11eb_ae61_0242ac1c0002row23_col0\" class=\"data row23 col0\" >32</td>\n",
              "            </tr>\n",
              "            <tr>\n",
              "                                <th id=\"T_c06eabb0_4c63_11eb_ae61_0242ac1c0002level1_row24\" class=\"row_heading level1 row24\" >муниципальный округ проспект вернадского</th>\n",
              "                        <td id=\"T_c06eabb0_4c63_11eb_ae61_0242ac1c0002row24_col0\" class=\"data row24 col0\" >2</td>\n",
              "            </tr>\n",
              "            <tr>\n",
              "                                <th id=\"T_c06eabb0_4c63_11eb_ae61_0242ac1c0002level1_row25\" class=\"row_heading level1 row25\" >муниципальный округ теплый стан</th>\n",
              "                        <td id=\"T_c06eabb0_4c63_11eb_ae61_0242ac1c0002row25_col0\" class=\"data row25 col0\" >3</td>\n",
              "            </tr>\n",
              "            <tr>\n",
              "                                <th id=\"T_c06eabb0_4c63_11eb_ae61_0242ac1c0002level1_row26\" class=\"row_heading level1 row26\" >муниципальный округ тропарево-никулино</th>\n",
              "                        <td id=\"T_c06eabb0_4c63_11eb_ae61_0242ac1c0002row26_col0\" class=\"data row26 col0\" >20</td>\n",
              "            </tr>\n",
              "            <tr>\n",
              "                                <th id=\"T_c06eabb0_4c63_11eb_ae61_0242ac1c0002level1_row27\" class=\"row_heading level1 row27\" >муниципальный округ якиманка</th>\n",
              "                        <td id=\"T_c06eabb0_4c63_11eb_ae61_0242ac1c0002row27_col0\" class=\"data row27 col0\" >25</td>\n",
              "            </tr>\n",
              "            <tr>\n",
              "                        <th id=\"T_c06eabb0_4c63_11eb_ae61_0242ac1c0002level0_row28\" class=\"row_heading level0 row28\" >пресненская набережная</th>\n",
              "                        <th id=\"T_c06eabb0_4c63_11eb_ae61_0242ac1c0002level1_row28\" class=\"row_heading level1 row28\" >муниципальный округ пресненский</th>\n",
              "                        <td id=\"T_c06eabb0_4c63_11eb_ae61_0242ac1c0002row28_col0\" class=\"data row28 col0\" >162</td>\n",
              "            </tr>\n",
              "            <tr>\n",
              "                        <th id=\"T_c06eabb0_4c63_11eb_ae61_0242ac1c0002level0_row29\" class=\"row_heading level0 row29\" rowspan=5>проспект вернадского</th>\n",
              "                        <th id=\"T_c06eabb0_4c63_11eb_ae61_0242ac1c0002level1_row29\" class=\"row_heading level1 row29\" >муниципальный округ гагаринский</th>\n",
              "                        <td id=\"T_c06eabb0_4c63_11eb_ae61_0242ac1c0002row29_col0\" class=\"data row29 col0\" >1</td>\n",
              "            </tr>\n",
              "            <tr>\n",
              "                                <th id=\"T_c06eabb0_4c63_11eb_ae61_0242ac1c0002level1_row30\" class=\"row_heading level1 row30\" >муниципальный округ ломоносовский</th>\n",
              "                        <td id=\"T_c06eabb0_4c63_11eb_ae61_0242ac1c0002row30_col0\" class=\"data row30 col0\" >14</td>\n",
              "            </tr>\n",
              "            <tr>\n",
              "                                <th id=\"T_c06eabb0_4c63_11eb_ae61_0242ac1c0002level1_row31\" class=\"row_heading level1 row31\" >муниципальный округ проспект вернадского</th>\n",
              "                        <td id=\"T_c06eabb0_4c63_11eb_ae61_0242ac1c0002row31_col0\" class=\"data row31 col0\" >16</td>\n",
              "            </tr>\n",
              "            <tr>\n",
              "                                <th id=\"T_c06eabb0_4c63_11eb_ae61_0242ac1c0002level1_row32\" class=\"row_heading level1 row32\" >муниципальный округ раменки</th>\n",
              "                        <td id=\"T_c06eabb0_4c63_11eb_ae61_0242ac1c0002row32_col0\" class=\"data row32 col0\" >31</td>\n",
              "            </tr>\n",
              "            <tr>\n",
              "                                <th id=\"T_c06eabb0_4c63_11eb_ae61_0242ac1c0002level1_row33\" class=\"row_heading level1 row33\" >муниципальный округ тропарево-никулино</th>\n",
              "                        <td id=\"T_c06eabb0_4c63_11eb_ae61_0242ac1c0002row33_col0\" class=\"data row33 col0\" >64</td>\n",
              "            </tr>\n",
              "            <tr>\n",
              "                        <th id=\"T_c06eabb0_4c63_11eb_ae61_0242ac1c0002level0_row34\" class=\"row_heading level0 row34\" rowspan=6>проспект мира</th>\n",
              "                        <th id=\"T_c06eabb0_4c63_11eb_ae61_0242ac1c0002level1_row34\" class=\"row_heading level1 row34\" >муниципальный округ алексеевский</th>\n",
              "                        <td id=\"T_c06eabb0_4c63_11eb_ae61_0242ac1c0002row34_col0\" class=\"data row34 col0\" >49</td>\n",
              "            </tr>\n",
              "            <tr>\n",
              "                                <th id=\"T_c06eabb0_4c63_11eb_ae61_0242ac1c0002level1_row35\" class=\"row_heading level1 row35\" >муниципальный округ мещанский</th>\n",
              "                        <td id=\"T_c06eabb0_4c63_11eb_ae61_0242ac1c0002row35_col0\" class=\"data row35 col0\" >63</td>\n",
              "            </tr>\n",
              "            <tr>\n",
              "                                <th id=\"T_c06eabb0_4c63_11eb_ae61_0242ac1c0002level1_row36\" class=\"row_heading level1 row36\" >муниципальный округ останкинский</th>\n",
              "                        <td id=\"T_c06eabb0_4c63_11eb_ae61_0242ac1c0002row36_col0\" class=\"data row36 col0\" >19</td>\n",
              "            </tr>\n",
              "            <tr>\n",
              "                                <th id=\"T_c06eabb0_4c63_11eb_ae61_0242ac1c0002level1_row37\" class=\"row_heading level1 row37\" >муниципальный округ ростокино</th>\n",
              "                        <td id=\"T_c06eabb0_4c63_11eb_ae61_0242ac1c0002row37_col0\" class=\"data row37 col0\" >7</td>\n",
              "            </tr>\n",
              "            <tr>\n",
              "                                <th id=\"T_c06eabb0_4c63_11eb_ae61_0242ac1c0002level1_row38\" class=\"row_heading level1 row38\" >муниципальный округ свиблово</th>\n",
              "                        <td id=\"T_c06eabb0_4c63_11eb_ae61_0242ac1c0002row38_col0\" class=\"data row38 col0\" >55</td>\n",
              "            </tr>\n",
              "            <tr>\n",
              "                                <th id=\"T_c06eabb0_4c63_11eb_ae61_0242ac1c0002level1_row39\" class=\"row_heading level1 row39\" >муниципальный округ ярославский</th>\n",
              "                        <td id=\"T_c06eabb0_4c63_11eb_ae61_0242ac1c0002row39_col0\" class=\"data row39 col0\" >1</td>\n",
              "            </tr>\n",
              "            <tr>\n",
              "                        <th id=\"T_c06eabb0_4c63_11eb_ae61_0242ac1c0002level0_row40\" class=\"row_heading level0 row40\" rowspan=6>профсоюзная улица</th>\n",
              "                        <th id=\"T_c06eabb0_4c63_11eb_ae61_0242ac1c0002level1_row40\" class=\"row_heading level1 row40\" >муниципальный округ академический</th>\n",
              "                        <td id=\"T_c06eabb0_4c63_11eb_ae61_0242ac1c0002row40_col0\" class=\"data row40 col0\" >25</td>\n",
              "            </tr>\n",
              "            <tr>\n",
              "                                <th id=\"T_c06eabb0_4c63_11eb_ae61_0242ac1c0002level1_row41\" class=\"row_heading level1 row41\" >муниципальный округ коньково</th>\n",
              "                        <td id=\"T_c06eabb0_4c63_11eb_ae61_0242ac1c0002row41_col0\" class=\"data row41 col0\" >34</td>\n",
              "            </tr>\n",
              "            <tr>\n",
              "                                <th id=\"T_c06eabb0_4c63_11eb_ae61_0242ac1c0002level1_row42\" class=\"row_heading level1 row42\" >муниципальный округ обручевский</th>\n",
              "                        <td id=\"T_c06eabb0_4c63_11eb_ae61_0242ac1c0002row42_col0\" class=\"data row42 col0\" >32</td>\n",
              "            </tr>\n",
              "            <tr>\n",
              "                                <th id=\"T_c06eabb0_4c63_11eb_ae61_0242ac1c0002level1_row43\" class=\"row_heading level1 row43\" >муниципальный округ теплый стан</th>\n",
              "                        <td id=\"T_c06eabb0_4c63_11eb_ae61_0242ac1c0002row43_col0\" class=\"data row43 col0\" >40</td>\n",
              "            </tr>\n",
              "            <tr>\n",
              "                                <th id=\"T_c06eabb0_4c63_11eb_ae61_0242ac1c0002level1_row44\" class=\"row_heading level1 row44\" >муниципальный округ черемушки</th>\n",
              "                        <td id=\"T_c06eabb0_4c63_11eb_ae61_0242ac1c0002row44_col0\" class=\"data row44 col0\" >34</td>\n",
              "            </tr>\n",
              "            <tr>\n",
              "                                <th id=\"T_c06eabb0_4c63_11eb_ae61_0242ac1c0002level1_row45\" class=\"row_heading level1 row45\" >муниципальный округ ясенево</th>\n",
              "                        <td id=\"T_c06eabb0_4c63_11eb_ae61_0242ac1c0002row45_col0\" class=\"data row45 col0\" >14</td>\n",
              "            </tr>\n",
              "    </tbody></table>"
            ],
            "text/plain": [
              "<pandas.io.formats.style.Styler at 0x7fce18195dd8>"
            ]
          },
          "metadata": {
            "tags": []
          },
          "execution_count": 77
        }
      ]
    },
    {
      "cell_type": "markdown",
      "metadata": {
        "id": "C5FS50ZwF1VP"
      },
      "source": [
        "Из таблицы замечаем, что улицы с большим количеством заведений проходят через несколько районов Москвы. Самая короткая из всех улица, расположенная только водном районе - Пресненская набережная (Пресненский район). Но именно здесь мы видим расположение наибольшего количества заведений общепита. Все это объясняется высоким сосредоточением офисов в данном районе и следовательно большим спросом на такие заведения."
      ]
    },
    {
      "cell_type": "code",
      "metadata": {
        "colab": {
          "base_uri": "https://localhost:8080/",
          "height": 359
        },
        "id": "POvxAEfCF4uq",
        "outputId": "97f4ced4-27a1-42d7-90e3-2f7c5bd9d608"
      },
      "source": [
        "top_10_streets"
      ],
      "execution_count": 78,
      "outputs": [
        {
          "output_type": "execute_result",
          "data": {
            "text/html": [
              "<div>\n",
              "<style scoped>\n",
              "    .dataframe tbody tr th:only-of-type {\n",
              "        vertical-align: middle;\n",
              "    }\n",
              "\n",
              "    .dataframe tbody tr th {\n",
              "        vertical-align: top;\n",
              "    }\n",
              "\n",
              "    .dataframe thead th {\n",
              "        text-align: right;\n",
              "    }\n",
              "</style>\n",
              "<table border=\"1\" class=\"dataframe\">\n",
              "  <thead>\n",
              "    <tr style=\"text-align: right;\">\n",
              "      <th></th>\n",
              "      <th>street</th>\n",
              "      <th>id</th>\n",
              "    </tr>\n",
              "  </thead>\n",
              "  <tbody>\n",
              "    <tr>\n",
              "      <th>0</th>\n",
              "      <td>проспект мира</td>\n",
              "      <td>195</td>\n",
              "    </tr>\n",
              "    <tr>\n",
              "      <th>1</th>\n",
              "      <td>профсоюзная улица</td>\n",
              "      <td>180</td>\n",
              "    </tr>\n",
              "    <tr>\n",
              "      <th>2</th>\n",
              "      <td>ленинградский проспект</td>\n",
              "      <td>172</td>\n",
              "    </tr>\n",
              "    <tr>\n",
              "      <th>3</th>\n",
              "      <td>пресненская набережная</td>\n",
              "      <td>165</td>\n",
              "    </tr>\n",
              "    <tr>\n",
              "      <th>4</th>\n",
              "      <td>варшавское шоссе</td>\n",
              "      <td>160</td>\n",
              "    </tr>\n",
              "    <tr>\n",
              "      <th>5</th>\n",
              "      <td>ленинский проспект</td>\n",
              "      <td>148</td>\n",
              "    </tr>\n",
              "    <tr>\n",
              "      <th>6</th>\n",
              "      <td>проспект вернадского</td>\n",
              "      <td>126</td>\n",
              "    </tr>\n",
              "    <tr>\n",
              "      <th>7</th>\n",
              "      <td>кутузовский проспект</td>\n",
              "      <td>114</td>\n",
              "    </tr>\n",
              "    <tr>\n",
              "      <th>8</th>\n",
              "      <td>каширское шоссе</td>\n",
              "      <td>110</td>\n",
              "    </tr>\n",
              "    <tr>\n",
              "      <th>9</th>\n",
              "      <td>кировоградская улица</td>\n",
              "      <td>107</td>\n",
              "    </tr>\n",
              "  </tbody>\n",
              "</table>\n",
              "</div>"
            ],
            "text/plain": [
              "                   street   id\n",
              "0           проспект мира  195\n",
              "1       профсоюзная улица  180\n",
              "2  ленинградский проспект  172\n",
              "3  пресненская набережная  165\n",
              "4        варшавское шоссе  160\n",
              "5      ленинский проспект  148\n",
              "6    проспект вернадского  126\n",
              "7    кутузовский проспект  114\n",
              "8         каширское шоссе  110\n",
              "9    кировоградская улица  107"
            ]
          },
          "metadata": {
            "tags": []
          },
          "execution_count": 78
        }
      ]
    },
    {
      "cell_type": "code",
      "metadata": {
        "colab": {
          "base_uri": "https://localhost:8080/"
        },
        "id": "JaN5DkbCF7q8",
        "outputId": "dfde6fe5-becc-442f-e048-ddaea7d5fd71"
      },
      "source": [
        "df_top['district'].value_counts().head(10)"
      ],
      "execution_count": 79,
      "outputs": [
        {
          "output_type": "execute_result",
          "data": {
            "text/plain": [
              "муниципальный округ пресненский              162\n",
              "муниципальный округ чертаново центральное     89\n",
              "муниципальный округ тропарево-никулино        84\n",
              "муниципальный округ аэропорт                  64\n",
              "муниципальный округ обручевский               64\n",
              "муниципальный округ мещанский                 63\n",
              "муниципальный округ дорогомилово              61\n",
              "муниципальный округ нагатино-садовники        56\n",
              "муниципальный округ свиблово                  55\n",
              "муниципальный округ фили-давыдково            53\n",
              "Name: district, dtype: int64"
            ]
          },
          "metadata": {
            "tags": []
          },
          "execution_count": 79
        }
      ]
    },
    {
      "cell_type": "code",
      "metadata": {
        "colab": {
          "base_uri": "https://localhost:8080/"
        },
        "id": "LfM1RRguGAVf",
        "outputId": "9bc673d5-4a83-4085-b0b8-085cef78a0a2"
      },
      "source": [
        "df_top['object_type'].value_counts().head(10)"
      ],
      "execution_count": 80,
      "outputs": [
        {
          "output_type": "execute_result",
          "data": {
            "text/plain": [
              "кафе          619\n",
              "ресторан      289\n",
              "фаст-фуд      249\n",
              "столовая      139\n",
              "бар            63\n",
              "кафетерий      48\n",
              "буфет          31\n",
              "кулинария      23\n",
              "закусочная     16\n",
              "Name: object_type, dtype: int64"
            ]
          },
          "metadata": {
            "tags": []
          },
          "execution_count": 80
        }
      ]
    },
    {
      "cell_type": "markdown",
      "metadata": {
        "id": "UtlsFHXPGIfz"
      },
      "source": [
        "Cреди районов по количеству заведений лидирует пресненский район, что неудивительно, так как на его расположены крупные предприятия, деловые комплексы (Москва-Сити). Среди объектов питания на популярных улицах преобладают кафе, рестораны и фаст-фуды."
      ]
    },
    {
      "cell_type": "markdown",
      "metadata": {
        "id": "aARNJAzUGJ1w"
      },
      "source": [
        "Улицы, входящие в топ-10 по количеству заведений общепита это крупные и длинные улицы, проходящие через большое количество районов и на территории которых располагается большое количество офисов."
      ]
    },
    {
      "cell_type": "markdown",
      "metadata": {
        "id": "y0iJ0_b5GPdg"
      },
      "source": [
        "### 8. Найдите число улиц с одним объектом общественного питания. Воспользуйтесь внешней информацией и ответьте на вопрос — в каких районах Москвы находятся эти улицы?\r\n",
        "<a id=\"item_8\"></a>"
      ]
    },
    {
      "cell_type": "code",
      "metadata": {
        "colab": {
          "base_uri": "https://localhost:8080/"
        },
        "id": "rB_3DsCWGTey",
        "outputId": "863aa2f5-4d52-442c-8fcb-afcf6ccac49b"
      },
      "source": [
        "count_on_street = rest_data.groupby('street').agg({'id':'count'}).reset_index()\r\n",
        "one_on_street = count_on_street.query('id == 1')\r\n",
        "len(one_on_street)"
      ],
      "execution_count": 81,
      "outputs": [
        {
          "output_type": "execute_result",
          "data": {
            "text/plain": [
              "540"
            ]
          },
          "metadata": {
            "tags": []
          },
          "execution_count": 81
        }
      ]
    },
    {
      "cell_type": "markdown",
      "metadata": {
        "id": "RNdW42VSGXH-"
      },
      "source": [
        "Улиц с одним общественным заведением в Москве 540"
      ]
    },
    {
      "cell_type": "code",
      "metadata": {
        "id": "ZHR7RTReGc2o"
      },
      "source": [
        "list_of_streets = list(one_on_street['street'])"
      ],
      "execution_count": 82,
      "outputs": []
    },
    {
      "cell_type": "markdown",
      "metadata": {
        "id": "Q3-jahCTGhyE"
      },
      "source": [
        "Сделаем срез по улицам, на которых расположен только один объект общественного питания."
      ]
    },
    {
      "cell_type": "code",
      "metadata": {
        "colab": {
          "base_uri": "https://localhost:8080/",
          "height": 323
        },
        "id": "WurEpGVOGj8O",
        "outputId": "8a9baca7-9fcc-4a53-f376-e57793801cb7"
      },
      "source": [
        "one_object_street = moscow_data.query('street in @list_of_streets')\r\n",
        "one_object_street.head()"
      ],
      "execution_count": 83,
      "outputs": [
        {
          "output_type": "execute_result",
          "data": {
            "text/html": [
              "<div>\n",
              "<style scoped>\n",
              "    .dataframe tbody tr th:only-of-type {\n",
              "        vertical-align: middle;\n",
              "    }\n",
              "\n",
              "    .dataframe tbody tr th {\n",
              "        vertical-align: top;\n",
              "    }\n",
              "\n",
              "    .dataframe thead th {\n",
              "        text-align: right;\n",
              "    }\n",
              "</style>\n",
              "<table border=\"1\" class=\"dataframe\">\n",
              "  <thead>\n",
              "    <tr style=\"text-align: right;\">\n",
              "      <th></th>\n",
              "      <th>address</th>\n",
              "      <th>street</th>\n",
              "      <th>district</th>\n",
              "      <th>id</th>\n",
              "      <th>object_name</th>\n",
              "      <th>chain</th>\n",
              "      <th>object_type</th>\n",
              "      <th>number</th>\n",
              "      <th>address_new</th>\n",
              "    </tr>\n",
              "  </thead>\n",
              "  <tbody>\n",
              "    <tr>\n",
              "      <th>21</th>\n",
              "      <td>город москва, филипповский переулок, дом 15/5</td>\n",
              "      <td>филипповский переулок</td>\n",
              "      <td>муниципальный округ арбат</td>\n",
              "      <td>153644</td>\n",
              "      <td>американская лаборатория десертов</td>\n",
              "      <td>нет</td>\n",
              "      <td>кафе</td>\n",
              "      <td>20</td>\n",
              "      <td>филипповский переулок, дом 15/5</td>\n",
              "    </tr>\n",
              "    <tr>\n",
              "      <th>77</th>\n",
              "      <td>город москва, бабаевская улица, дом 3</td>\n",
              "      <td>бабаевская улица</td>\n",
              "      <td>муниципальный округ сокольники</td>\n",
              "      <td>21214</td>\n",
              "      <td>столовая</td>\n",
              "      <td>нет</td>\n",
              "      <td>столовая</td>\n",
              "      <td>90</td>\n",
              "      <td>бабаевская улица, дом 3</td>\n",
              "    </tr>\n",
              "    <tr>\n",
              "      <th>86</th>\n",
              "      <td>город москва, 1-й балтийский переулок, дом 3/25</td>\n",
              "      <td>1-й балтийский переулок</td>\n",
              "      <td>муниципальный округ аэропорт</td>\n",
              "      <td>22139</td>\n",
              "      <td>хуанхэ</td>\n",
              "      <td>нет</td>\n",
              "      <td>ресторан</td>\n",
              "      <td>60</td>\n",
              "      <td>1-й балтийский переулок, дом 3/25</td>\n",
              "    </tr>\n",
              "    <tr>\n",
              "      <th>100</th>\n",
              "      <td>город москва, улица демьяна бедного, дом 4</td>\n",
              "      <td>улица демьяна бедного</td>\n",
              "      <td>муниципальный округ хорошево-мневники</td>\n",
              "      <td>25833</td>\n",
              "      <td>азербайджан</td>\n",
              "      <td>нет</td>\n",
              "      <td>ресторан</td>\n",
              "      <td>180</td>\n",
              "      <td>улица демьяна бедного, дом 4</td>\n",
              "    </tr>\n",
              "    <tr>\n",
              "      <th>151</th>\n",
              "      <td>город москва, будайская улица, дом 3</td>\n",
              "      <td>будайская улица</td>\n",
              "      <td>муниципальный округ ростокино</td>\n",
              "      <td>150881</td>\n",
              "      <td>вгик</td>\n",
              "      <td>нет</td>\n",
              "      <td>столовая</td>\n",
              "      <td>45</td>\n",
              "      <td>будайская улица, дом 3</td>\n",
              "    </tr>\n",
              "  </tbody>\n",
              "</table>\n",
              "</div>"
            ],
            "text/plain": [
              "                                             address  ...                        address_new\n",
              "21     город москва, филипповский переулок, дом 15/5  ...    филипповский переулок, дом 15/5\n",
              "77             город москва, бабаевская улица, дом 3  ...            бабаевская улица, дом 3\n",
              "86   город москва, 1-й балтийский переулок, дом 3/25  ...  1-й балтийский переулок, дом 3/25\n",
              "100       город москва, улица демьяна бедного, дом 4  ...       улица демьяна бедного, дом 4\n",
              "151             город москва, будайская улица, дом 3  ...             будайская улица, дом 3\n",
              "\n",
              "[5 rows x 9 columns]"
            ]
          },
          "metadata": {
            "tags": []
          },
          "execution_count": 83
        }
      ]
    },
    {
      "cell_type": "code",
      "metadata": {
        "colab": {
          "base_uri": "https://localhost:8080/"
        },
        "id": "bhmWNS8KGqHb",
        "outputId": "db76f45f-6bb5-49cc-c871-d44663799eb6"
      },
      "source": [
        "one_object_street['district'].value_counts().head(10)"
      ],
      "execution_count": 84,
      "outputs": [
        {
          "output_type": "execute_result",
          "data": {
            "text/plain": [
              "муниципальный округ таганский         26\n",
              "муниципальный округ хамовники         26\n",
              "муниципальный округ басманный         22\n",
              "муниципальный округ тверской          20\n",
              "муниципальный округ пресненский       19\n",
              "муниципальный округ марьина роща      17\n",
              "муниципальный округ сокольники        14\n",
              "муниципальный округ замоскворечье     12\n",
              "муниципальный округ соколиная гора    12\n",
              "муниципальный округ мещанский         12\n",
              "Name: district, dtype: int64"
            ]
          },
          "metadata": {
            "tags": []
          },
          "execution_count": 84
        }
      ]
    },
    {
      "cell_type": "code",
      "metadata": {
        "colab": {
          "base_uri": "https://localhost:8080/",
          "height": 383
        },
        "id": "gxAPX9rDGvWc",
        "outputId": "ef9ea2d3-af33-4194-b157-eea98500733c"
      },
      "source": [
        "fig, ax = plt.subplots(figsize=(9,5))\r\n",
        "ax = one_object_street['district'].value_counts().reset_index().head(10)\r\n",
        "sns.barplot(x='district', y='index', data=ax, palette='Set2')\r\n",
        "plt.xticks(rotation=45)\r\n",
        "plt.title('Районы Москвы с наибольшим количеством улиц с одним объектом общепита', fontsize=17, pad=15)\r\n",
        "plt.xlabel('количество улиц')\r\n",
        "plt.ylabel('районы')\r\n",
        "plt.show()"
      ],
      "execution_count": 85,
      "outputs": [
        {
          "output_type": "display_data",
          "data": {
            "image/png": "[encoded data removed]",
            "text/plain": [
              "<Figure size 648x360 with 1 Axes>"
            ]
          },
          "metadata": {
            "tags": []
          }
        }
      ]
    },
    {
      "cell_type": "code",
      "metadata": {
        "colab": {
          "base_uri": "https://localhost:8080/",
          "height": 328
        },
        "id": "A7oNkPTqHHYR",
        "outputId": "ec983699-542a-42a8-ce88-10028cfb1f6c"
      },
      "source": [
        "one_object_top = one_object_street['object_type'].value_counts().reset_index().head(10)\r\n",
        "one_object_top"
      ],
      "execution_count": 86,
      "outputs": [
        {
          "output_type": "execute_result",
          "data": {
            "text/html": [
              "<div>\n",
              "<style scoped>\n",
              "    .dataframe tbody tr th:only-of-type {\n",
              "        vertical-align: middle;\n",
              "    }\n",
              "\n",
              "    .dataframe tbody tr th {\n",
              "        vertical-align: top;\n",
              "    }\n",
              "\n",
              "    .dataframe thead th {\n",
              "        text-align: right;\n",
              "    }\n",
              "</style>\n",
              "<table border=\"1\" class=\"dataframe\">\n",
              "  <thead>\n",
              "    <tr style=\"text-align: right;\">\n",
              "      <th></th>\n",
              "      <th>index</th>\n",
              "      <th>object_type</th>\n",
              "    </tr>\n",
              "  </thead>\n",
              "  <tbody>\n",
              "    <tr>\n",
              "      <th>0</th>\n",
              "      <td>столовая</td>\n",
              "      <td>218</td>\n",
              "    </tr>\n",
              "    <tr>\n",
              "      <th>1</th>\n",
              "      <td>кафе</td>\n",
              "      <td>154</td>\n",
              "    </tr>\n",
              "    <tr>\n",
              "      <th>2</th>\n",
              "      <td>буфет</td>\n",
              "      <td>58</td>\n",
              "    </tr>\n",
              "    <tr>\n",
              "      <th>3</th>\n",
              "      <td>ресторан</td>\n",
              "      <td>52</td>\n",
              "    </tr>\n",
              "    <tr>\n",
              "      <th>4</th>\n",
              "      <td>бар</td>\n",
              "      <td>21</td>\n",
              "    </tr>\n",
              "    <tr>\n",
              "      <th>5</th>\n",
              "      <td>фаст-фуд</td>\n",
              "      <td>16</td>\n",
              "    </tr>\n",
              "    <tr>\n",
              "      <th>6</th>\n",
              "      <td>закусочная</td>\n",
              "      <td>11</td>\n",
              "    </tr>\n",
              "    <tr>\n",
              "      <th>7</th>\n",
              "      <td>кулинария</td>\n",
              "      <td>7</td>\n",
              "    </tr>\n",
              "    <tr>\n",
              "      <th>8</th>\n",
              "      <td>кафетерий</td>\n",
              "      <td>3</td>\n",
              "    </tr>\n",
              "  </tbody>\n",
              "</table>\n",
              "</div>"
            ],
            "text/plain": [
              "        index  object_type\n",
              "0    столовая          218\n",
              "1        кафе          154\n",
              "2       буфет           58\n",
              "3    ресторан           52\n",
              "4         бар           21\n",
              "5    фаст-фуд           16\n",
              "6  закусочная           11\n",
              "7   кулинария            7\n",
              "8   кафетерий            3"
            ]
          },
          "metadata": {
            "tags": []
          },
          "execution_count": 86
        }
      ]
    },
    {
      "cell_type": "code",
      "metadata": {
        "colab": {
          "base_uri": "https://localhost:8080/",
          "height": 430
        },
        "id": "AtGLGWE9HL-h",
        "outputId": "46a10c72-deb2-4b78-88fc-cc4cd859a9af"
      },
      "source": [
        "fig, ax = plt.subplots(figsize=(9,5))\r\n",
        "sns.barplot(x='index', y='object_type', data=one_object_top, palette='Set2')\r\n",
        "plt.xticks(rotation=45)\r\n",
        "plt.title('Распределение видов заведений общепита на улицах с одним объектом', fontsize=17, pad=15)\r\n",
        "plt.xlabel('вид заведения')\r\n",
        "plt.ylabel('количество объектов')\r\n",
        "plt.show()"
      ],
      "execution_count": 87,
      "outputs": [
        {
          "output_type": "display_data",
          "data": {
            "image/png": "[encoded data removed]",
            "text/plain": [
              "<Figure size 648x360 with 1 Axes>"
            ]
          },
          "metadata": {
            "tags": []
          }
        }
      ]
    },
    {
      "cell_type": "markdown",
      "metadata": {
        "id": "yPzGBWAiHQP2"
      },
      "source": [
        "Больше всего улиц с одним заведение общепита в центральном округе Москвы (Таганский, Басманный, Хамовники, Мещанский, Замоскворечье, Тверской округа). Наибоьшая доля объектов на таких улицах приходится на столовые и кафе."
      ]
    },
    {
      "cell_type": "markdown",
      "metadata": {
        "id": "yFhh2i8aHWxX"
      },
      "source": [
        "### 9. Посмотрите на распределение количества посадочных мест для улиц с большим количеством объектов общественного питания. Какие закономерности можно выявить?\r\n",
        "<a id=\"item_9\"></a>"
      ]
    },
    {
      "cell_type": "code",
      "metadata": {
        "colab": {
          "base_uri": "https://localhost:8080/",
          "height": 561
        },
        "id": "eDW1pU_GHadz",
        "outputId": "437790ab-04ae-4444-c159-a8bde8845c44"
      },
      "source": [
        "figure, (ax_box, ax_hist) = plt.subplots(2, sharex=True, gridspec_kw={'height_ratios':(.25, .85)}, figsize=(12,7))\r\n",
        "#plt.title('Распределение количества посадочных мест для улиц с большим количеством объектов общепита', fontsize=17, pad=15)\r\n",
        "sns.boxplot(df_top['number'], ax=ax_box)\r\n",
        "sns.distplot(df_top['number'], ax=ax_hist)\r\n",
        "plt.xlabel('количество посадочных мест')\r\n",
        "ax_box.set(xlabel=None)\r\n",
        "ax_box.set(title='Распределение количества посадочных мест для улиц с большим количеством объектов общепита')\r\n",
        "plt.show()"
      ],
      "execution_count": 88,
      "outputs": [
        {
          "output_type": "stream",
          "text": [
            "/usr/local/lib/python3.6/dist-packages/seaborn/_decorators.py:43: FutureWarning: Pass the following variable as a keyword arg: x. From version 0.12, the only valid positional argument will be `data`, and passing other arguments without an explicit keyword will result in an error or misinterpretation.\n",
            "  FutureWarning\n",
            "/usr/local/lib/python3.6/dist-packages/seaborn/distributions.py:2551: FutureWarning: `distplot` is a deprecated function and will be removed in a future version. Please adapt your code to use either `displot` (a figure-level function with similar flexibility) or `histplot` (an axes-level function for histograms).\n",
            "  warnings.warn(msg, FutureWarning)\n"
          ],
          "name": "stderr"
        },
        {
          "output_type": "display_data",
          "data": {
            "image/png": "[encoded data removed]",
            "text/plain": [
              "<Figure size 864x504 with 2 Axes>"
            ]
          },
          "metadata": {
            "tags": []
          }
        }
      ]
    },
    {
      "cell_type": "markdown",
      "metadata": {
        "id": "LMfx6Q9MHfB-"
      },
      "source": [
        "Можем сделать вывод, что в заведениях, расположенных на улицах с большим количеством объектов общепита, мало посадочных мест. Причиной этому является дорогая аренда помещения."
      ]
    },
    {
      "cell_type": "code",
      "metadata": {
        "colab": {
          "base_uri": "https://localhost:8080/",
          "height": 389
        },
        "id": "rm4K_qxXHjWK",
        "outputId": "f80118d6-3150-4d1d-bf39-e9a732113006"
      },
      "source": [
        "fig, ax = plt.subplots(figsize=(9,5))\r\n",
        "ax = sns.boxplot(x='number', y='street', data=df_top, palette='Set2')\r\n",
        "plt.xticks(rotation=45)\r\n",
        "plt.title('Распределение количества посадочных мест для топ-10 улиц', fontsize=17, pad=15)\r\n",
        "plt.xlabel('количество посадочных мест')\r\n",
        "plt.ylabel('улица')\r\n",
        "ax.set_xlim(-10,300)\r\n",
        "plt.show()"
      ],
      "execution_count": 89,
      "outputs": [
        {
          "output_type": "display_data",
          "data": {
            "image/png": "[encoded data removed]",
            "text/plain": [
              "<Figure size 648x360 with 1 Axes>"
            ]
          },
          "metadata": {
            "tags": []
          }
        }
      ]
    },
    {
      "cell_type": "markdown",
      "metadata": {
        "id": "s7NL1TyDHox4"
      },
      "source": [
        "Для топ-10 улиц с наибольшим количеством заведений общепита характерно небольшое количество посадочных мест. Наименьшее количество посадочных мест среди таких улиц в заведениях на пресненской набережной. Как мы рассматривали выше именно в Пресненском районе больше всего количество объектов общепита."
      ]
    },
    {
      "cell_type": "markdown",
      "metadata": {
        "id": "SMDj-7uCHtKX"
      },
      "source": [
        "## Шаг 3. Презентация\r\n",
        "<a id=\"step3\"></a>"
      ]
    },
    {
      "cell_type": "markdown",
      "metadata": {
        "id": "4RArJwJVHxfx"
      },
      "source": [
        "Презентация: https://drive.google.com/file/d/1RnXBCfmb-sBmWbGbMOUWCr9gEdmyyfDX/view?usp=sharing"
      ]
    },
    {
      "cell_type": "markdown",
      "metadata": {
        "id": "nBVUtlOSH6do"
      },
      "source": [
        "## Вывод:\r\n",
        "\r\n",
        "В данном проекте мы провели исследование рынка заведений общественного питания в Москве. Для начала мы провели первичный анализ и предобработку данных. Привели данные в более удобный для исследования вид. А также удалили данные о заведениях общепита за пределами Москвы (Новую Москву в проекте решили не рассматривать). Исходя из проведенного анализа можем сделать следующие выводы:\r\n",
        "\r\n",
        "- По количеству заведений в Москве лидируют кафе, затем следуют столовые, рестораны и фаст-фуды. Наименьшим количеством заведений в Москве представлены закусочные и кулинарии.\r\n",
        "- По соотношению сетевых и несетевых заведений преобладают несетевые. На их долю приходится 80%.\r\n",
        "- Среди всех типов заведений наибольшая доля приходится на несетевые. У сетевых заведений наиболее высокая доля предприятий быстрого питания (40%). Также высока доля у магазинов кулинарии (30%), ресторанов и кафе (по 23%). Минимальная доля сетевых заведений среди столовых (почти 100% приходится на несетевые) и буфеты(2%).\r\n",
        "- Чем меньшим количеством заведений представлена сеть, тем больше в них посадочных мест. Такие крупные сети, как макдоналдс, шоколадница, кфс, бургер кинг имеют в среднем до 100 посадочных мест.\r\n",
        "- Больше всего посадочных мест в столовых и ресторанах. Меньше всего - в закусочных и кулинариях.\r\n",
        "- Среди столовых преобладают столовые при различных учебных заведениях (школах, колледжах, вузах).\r\n",
        "- Cреди районов по количеству заведений лидирует Пресненский район (на его территории расположены крупные предприятия и деловые комплексы, самый известный и крупный в Москве комплекс Москва-Сити).\r\n",
        "- Больше всего улиц с одним заведение общепита в центральном округе Москвы (Таганский, Басманный, Хамовники, Мещанский, Замоскворечье, Тверской округа).\r\n",
        "- В заведениях, расположенных на улицах с большим количеством объектов общепита, мало посадочных мест. Причиной этому является дорогая аренда помещения.\r\n",
        "\r\n",
        "Что касается рекомендаций, то как мне кажется без данных о посещаемости данных заведений, дать советы, которые могли бы помочь в развитии бизнеса в данной сфере будет непросто. Исходя из статистики, среди заведений общепита преобладают несетевые заведения, типа столовых (причем большинство столовых относится к различным учебным заведениям). На долю сетевых заведений приходится 80%. Но это не говорит о неуспешности сетевых заведений. Отнюдь, большинство заведений, которые у нас на слуху, являются именно сетевыми. Среди данного типа объектов большая доля приходится на предприятия быстрого питания, кулинарии, рестораны и кафе. Среди топ-10 улиц по количеству заведений преобладают достаточно крупные улицы, проходящие через большое количество районов Москвы. Лидером по количеству заведений является Пресненский район, известный большим количеством расположенных на его территории бизнес-центров (Москва-Сити). Среди заведений здесь преобладают кафе, рестораны и фаст-фуды. Как правило количество посадочных мест, которые заведения готовы предложить посетителям на таких популярных улицах, невелико встедствие большой аренды за помещения в данных районах. В Центральном округе Москвы есть достаточно много улиц, на которых располагается всего один объект питания (причем наибольшая часть из них приходится на столовые, которые, как мы уже говорили ранее относится к учебным заведениям, следовательно вероятность встретить общедоступные объекты питания на таких улицах крайне мала)"
      ]
    },
    {
      "cell_type": "markdown",
      "metadata": {
        "id": "Ji8IHEzeH8Fp"
      },
      "source": [
        ""
      ]
    }
  ]
}